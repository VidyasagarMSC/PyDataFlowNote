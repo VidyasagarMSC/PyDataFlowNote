{
 "cells": [
  {
   "cell_type": "markdown",
   "metadata": {},
   "source": [
    "While exploring AI agents, I came across two interesting libraries - Pydantic and Logfire. In this article, you will learn about Pydantic with code examples and understand what Pydantic brings to the table in the world of Data validation for Python developers.\n",
    "\n",
    "Pydantic is a powerful Python library that uses type annotations to validate data structures. It's become an essential tool for many Python developers, especially those working on web applications, APIs, and data-intensive projects."
   ]
  },
  {
   "cell_type": "code",
   "execution_count": 1,
   "metadata": {},
   "outputs": [
    {
     "name": "stdout",
     "output_type": "stream",
     "text": [
      "Requirement already satisfied: pydantic in /Users/vmac/.pyenv/versions/3.12.4/lib/python3.12/site-packages (2.9.2)\n",
      "Requirement already satisfied: annotated-types>=0.6.0 in /Users/vmac/.pyenv/versions/3.12.4/lib/python3.12/site-packages (from pydantic) (0.7.0)\n",
      "Requirement already satisfied: pydantic-core==2.23.4 in /Users/vmac/.pyenv/versions/3.12.4/lib/python3.12/site-packages (from pydantic) (2.23.4)\n",
      "Requirement already satisfied: typing-extensions>=4.6.1 in /Users/vmac/.pyenv/versions/3.12.4/lib/python3.12/site-packages (from pydantic) (4.12.2)\n",
      "\n",
      "\u001b[1m[\u001b[0m\u001b[34;49mnotice\u001b[0m\u001b[1;39;49m]\u001b[0m\u001b[39;49m A new release of pip is available: \u001b[0m\u001b[31;49m24.0\u001b[0m\u001b[39;49m -> \u001b[0m\u001b[32;49m25.0\u001b[0m\n",
      "\u001b[1m[\u001b[0m\u001b[34;49mnotice\u001b[0m\u001b[1;39;49m]\u001b[0m\u001b[39;49m To update, run: \u001b[0m\u001b[32;49mpip install --upgrade pip\u001b[0m\n",
      "Collecting pydantic_settings\n",
      "  Using cached pydantic_settings-2.7.1-py3-none-any.whl.metadata (3.5 kB)\n",
      "Requirement already satisfied: pydantic>=2.7.0 in /Users/vmac/.pyenv/versions/3.12.4/lib/python3.12/site-packages (from pydantic_settings) (2.9.2)\n",
      "Requirement already satisfied: python-dotenv>=0.21.0 in /Users/vmac/.pyenv/versions/3.12.4/lib/python3.12/site-packages (from pydantic_settings) (1.0.1)\n",
      "Requirement already satisfied: annotated-types>=0.6.0 in /Users/vmac/.pyenv/versions/3.12.4/lib/python3.12/site-packages (from pydantic>=2.7.0->pydantic_settings) (0.7.0)\n",
      "Requirement already satisfied: pydantic-core==2.23.4 in /Users/vmac/.pyenv/versions/3.12.4/lib/python3.12/site-packages (from pydantic>=2.7.0->pydantic_settings) (2.23.4)\n",
      "Requirement already satisfied: typing-extensions>=4.6.1 in /Users/vmac/.pyenv/versions/3.12.4/lib/python3.12/site-packages (from pydantic>=2.7.0->pydantic_settings) (4.12.2)\n",
      "Using cached pydantic_settings-2.7.1-py3-none-any.whl (29 kB)\n",
      "Installing collected packages: pydantic_settings\n",
      "Successfully installed pydantic_settings-2.7.1\n",
      "\n",
      "\u001b[1m[\u001b[0m\u001b[34;49mnotice\u001b[0m\u001b[1;39;49m]\u001b[0m\u001b[39;49m A new release of pip is available: \u001b[0m\u001b[31;49m24.0\u001b[0m\u001b[39;49m -> \u001b[0m\u001b[32;49m25.0\u001b[0m\n",
      "\u001b[1m[\u001b[0m\u001b[34;49mnotice\u001b[0m\u001b[1;39;49m]\u001b[0m\u001b[39;49m To update, run: \u001b[0m\u001b[32;49mpip install --upgrade pip\u001b[0m\n"
     ]
    }
   ],
   "source": [
    "#  Install Pydantic\n",
    "!pip install pydantic\n",
    "!pip install pydantic_settings"
   ]
  },
  {
   "cell_type": "code",
   "execution_count": 2,
   "metadata": {},
   "outputs": [
    {
     "name": "stdout",
     "output_type": "stream",
     "text": [
      "username='johndoe' age=30 email='john@example.com' is_active=True tags=['python', 'developer'] profile_picture=None\n"
     ]
    }
   ],
   "source": [
    "# Base Model Definition\n",
    "from pydantic import BaseModel\n",
    "from typing import List, Optional\n",
    "\n",
    "\n",
    "class User(BaseModel):\n",
    "    username: str\n",
    "    age: int\n",
    "    email: str\n",
    "    is_active: bool = True\n",
    "    tags: List[str] = []\n",
    "    profile_picture: Optional[str] = None\n",
    "\n",
    "user = User(username=\"johndoe\", age=30, email=\"john@example.com\", tags=[\"python\", \"developer\"])\n",
    "print(user)"
   ]
  },
  {
   "cell_type": "code",
   "execution_count": 3,
   "metadata": {},
   "outputs": [
    {
     "name": "stdout",
     "output_type": "stream",
     "text": [
      "title=\"The Hitchhiker's Guide to the Galaxy\" author='Douglas Adams' publication_year=1979 isbn='0-330-25864-8' genres=['Science Fiction', 'Comedy'] description=None\n"
     ]
    }
   ],
   "source": [
    "# Base Model Definition example - 2\n",
    "\n",
    "from typing import List, Optional\n",
    "from pydantic import BaseModel\n",
    "\n",
    "class Book(BaseModel):\n",
    "    title: str\n",
    "    author: str\n",
    "    publication_year: int\n",
    "    isbn: str\n",
    "    genres: List[str]\n",
    "    description: Optional[str] = None\n",
    "\n",
    "\n",
    "# Creating a valid book instance\n",
    "\n",
    "book = Book(\n",
    "    title=\"The Hitchhiker's Guide to the Galaxy\",\n",
    "    author=\"Douglas Adams\",\n",
    "    publication_year=1979,\n",
    "    isbn=\"0-330-25864-8\",\n",
    "    genres=[\"Science Fiction\", \"Comedy\"],\n",
    ")\n",
    "\n",
    "\n",
    "print(book)"
   ]
  },
  {
   "cell_type": "code",
   "execution_count": 3,
   "metadata": {},
   "outputs": [
    {
     "name": "stdout",
     "output_type": "stream",
     "text": [
      "title='1984' author=Author(name='George Orwell', age=46, address=Address(street='50 Lawford Road', city='London', country='United Kingdom', postal_code='N1 5BJ')) genres=['Dystopian', 'Political Fiction']\n"
     ]
    }
   ],
   "source": [
    "# Nested Models\n",
    "\n",
    "from pydantic import BaseModel\n",
    "from typing import List\n",
    "\n",
    "\n",
    "class Address(BaseModel):\n",
    "\tstreet: str\n",
    "\tcity: str\n",
    "\tcountry: str\n",
    "\tpostal_code: str\n",
    "\n",
    "\n",
    "class Author(BaseModel):\n",
    "\tname: str\n",
    "\tage: int\n",
    "\taddress: Address\n",
    "\n",
    "\n",
    "class Book(BaseModel):\n",
    "\ttitle: str\n",
    "\tauthor: Author\n",
    "\tgenres: List[str]\n",
    "\n",
    "\n",
    "# Creating a book with nested author and address\n",
    "\n",
    "book = Book(\n",
    "\ttitle=\"1984\",\n",
    "\tauthor=Author(\n",
    "\t\tname=\"George Orwell\",\n",
    "\t\tage=46,\n",
    "\t\taddress=Address(\n",
    "\t\t\tstreet=\"50 Lawford Road\",\n",
    "\t\t\tcity=\"London\",\n",
    "\t\t\tcountry=\"United Kingdom\",\n",
    "\t\t\tpostal_code=\"N1 5BJ\"\n",
    "\t\t)\n",
    "\t),\n",
    "\tgenres=[\"Dystopian\", \"Political Fiction\"]\n",
    ")\n",
    "\n",
    "print(book)"
   ]
  },
  {
   "cell_type": "code",
   "execution_count": 4,
   "metadata": {},
   "outputs": [
    {
     "name": "stdout",
     "output_type": "stream",
     "text": [
      "Valid user: username='john_doe' email='john@example.com' password='StrongPass1'\n"
     ]
    }
   ],
   "source": [
    "# Custom Validators \n",
    "\n",
    "import re\n",
    "from pydantic import BaseModel, field_validator\n",
    "\n",
    "\n",
    "class User(BaseModel):\n",
    "\tusername: str\n",
    "\temail: str\n",
    "\tpassword: str\n",
    "\n",
    "@field_validator('username')\n",
    "def username_alphanumeric(cls, v):\n",
    "\tassert v.isalnum(), 'Username must be alphanumeric'\n",
    "\treturn v\n",
    "\n",
    "@field_validator('email')\n",
    "def email_valid(cls, v):\n",
    "\tregex = r'^[a-zA-Z0-9._%+-]+@[a-zA-Z0-9.-]+\\.[a-zA-Z]{2,}$'\n",
    "\tassert re.match(regex, v), 'Invalid email format'\n",
    "\treturn v\n",
    "\n",
    "@field_validator('password')\n",
    "def password_strength(cls, v):\n",
    "\tassert len(v) >= 8, 'Password must be at least 8 characters'\n",
    "\tassert any(c.isupper() for c in v), 'Password must contain an uppercase letter'\n",
    "\tassert any(c.islower() for c in v), 'Password must contain a lowercase letter'\n",
    "\tassert any(c.isdigit() for c in v), 'Password must contain a digit'\n",
    "\treturn v\n",
    "\n",
    "\n",
    "# Try creating users\n",
    "\n",
    "try:\n",
    "\tuser1 = User(username=\"john_doe\", email=\"john@example.com\", password=\"StrongPass1\")\n",
    "\tprint(\"Valid user:\", user1)\n",
    "\n",
    "except ValueError as e:\n",
    "\tprint(\"Validation error:\", e)\n",
    "\n",
    "try:\n",
    "\tuser2 = User(username=\"alice!\", email=\"invalid-email\", password=\"weak\")\n",
    "    \n",
    "except ValueError as e:\n",
    "\tprint(\"Validation error:\", e)"
   ]
  },
  {
   "cell_type": "code",
   "execution_count": 4,
   "metadata": {},
   "outputs": [
    {
     "name": "stdout",
     "output_type": "stream",
     "text": [
      "id=1 name='Laptop' price=999.99 tags=['electronics', 'computer']\n",
      "Validation error: 4 validation errors for Product\n",
      "id\n",
      "  Input should be greater than 0 [type=greater_than, input_value=0, input_type=int]\n",
      "    For further information visit https://errors.pydantic.dev/2.9/v/greater_than\n",
      "name\n",
      "  String should have at least 3 characters [type=string_too_short, input_value='TV', input_type=str]\n",
      "    For further information visit https://errors.pydantic.dev/2.9/v/string_too_short\n",
      "price\n",
      "  Input should be greater than or equal to 0 [type=greater_than_equal, input_value=-100, input_type=int]\n",
      "    For further information visit https://errors.pydantic.dev/2.9/v/greater_than_equal\n",
      "tags\n",
      "  List should have at most 5 items after validation, not 6 [type=too_long, input_value=['a', 'b', 'c', 'd', 'e', 'f'], input_type=list]\n",
      "    For further information visit https://errors.pydantic.dev/2.9/v/too_long\n"
     ]
    }
   ],
   "source": [
    "# Config and Field Constraints\n",
    "from typing import List\n",
    "from pydantic import BaseModel, Field\n",
    "\n",
    "\n",
    "class Product(BaseModel):\n",
    "\tid: int = Field(..., gt=0)\n",
    "\tname: str = Field(..., min_length=3, max_length=50)\n",
    "\tprice: float = Field(..., ge=0)\n",
    "\ttags: List[str] = Field(default_factory=list, max_length=5)\n",
    "\n",
    "\n",
    "class Config:\n",
    "\tallow_mutation = False\n",
    "\textra = \"forbid\"\n",
    "\n",
    "\n",
    "# Creating a valid product\n",
    "\n",
    "product = Product(id=1, name=\"Laptop\", price=999.99, tags=[\"electronics\", \"computer\"])\n",
    "print(product)\n",
    "\n",
    "# Attempting to create an invalid product\n",
    "\n",
    "try:\n",
    "\tinvalid_product = Product(\n",
    "\t\tid=0, name=\"TV\", price=-100, tags=[\"a\", \"b\", \"c\", \"d\", \"e\", \"f\"]\n",
    "\t)\n",
    "\n",
    "except ValueError as e:\n",
    "\tprint(\"Validation error:\", e)\n",
    "\n",
    "# Attempting to modify the product (which is not allowed due to allow_mutation=False)\n",
    "\n",
    "try:\n",
    "\tproduct.price = 899.99\n",
    "except AttributeError as e:\n",
    "\tprint(\"Modification error:\", e)"
   ]
  },
  {
   "cell_type": "code",
   "execution_count": 5,
   "metadata": {},
   "outputs": [
    {
     "name": "stdout",
     "output_type": "stream",
     "text": [
      "id=1 title='Hello, Pydantic!' content='This is a post about Pydantic.' comments=[Comment(id=1, text='Great post!'), Comment(id=2, text='Thanks for sharing.')]\n",
      "{\"id\":1,\"title\":\"Hello, Pydantic!\",\"content\":\"This is a post about Pydantic.\",\"comments\":[{\"id\":1,\"text\":\"Great post!\"},{\"id\":2,\"text\":\"Thanks for sharing.\"}]}\n"
     ]
    }
   ],
   "source": [
    "# Working with JSON \n",
    "\n",
    "from typing import List\n",
    "from pydantic import BaseModel\n",
    "\n",
    "class Comment(BaseModel):\n",
    "    id: int\n",
    "    text: str\n",
    "\n",
    "class Post(BaseModel):\n",
    "    id: int\n",
    "    title: str\n",
    "    content: str\n",
    "    comments: List[Comment]\n",
    "\n",
    "\n",
    "# JSON data\n",
    "json_data = \"\"\"\n",
    "{\n",
    "\"id\": 1,\n",
    "\"title\": \"Hello, Pydantic!\",\n",
    "\"content\": \"This is a post about Pydantic.\",\n",
    "\"comments\": [\n",
    "{\"id\": 1, \"text\": \"Great post!\"},\n",
    "{\"id\": 2, \"text\": \"Thanks for sharing.\"}\n",
    "]\n",
    "}\n",
    "\"\"\"\n",
    "# Parse JSON data into a Pydantic model\n",
    "post = Post.model_validate_json(json_data)\n",
    "print(post)\n",
    "\n",
    "# Convert Pydantic model back to JSON\n",
    "post_json = post.model_dump_json()\n",
    "print(post_json)"
   ]
  },
  {
   "cell_type": "code",
   "execution_count": 8,
   "metadata": {},
   "outputs": [
    {
     "ename": "ValidationError",
     "evalue": "2 validation errors for Settings\ndatabase_url\n  Field required [type=missing, input_value={}, input_type=dict]\n    For further information visit https://errors.pydantic.dev/2.9/v/missing\napi_key\n  Field required [type=missing, input_value={}, input_type=dict]\n    For further information visit https://errors.pydantic.dev/2.9/v/missing",
     "output_type": "error",
     "traceback": [
      "\u001b[0;31m---------------------------------------------------------------------------\u001b[0m",
      "\u001b[0;31mValidationError\u001b[0m                           Traceback (most recent call last)",
      "Cell \u001b[0;32mIn[8], line 8\u001b[0m\n\u001b[1;32m      5\u001b[0m     api_key: \u001b[38;5;28mstr\u001b[39m\n\u001b[1;32m      6\u001b[0m     debug_mode: \u001b[38;5;28mbool\u001b[39m \u001b[38;5;241m=\u001b[39m \u001b[38;5;28;01mFalse\u001b[39;00m\n\u001b[0;32m----> 8\u001b[0m settings \u001b[38;5;241m=\u001b[39m \u001b[43mSettings\u001b[49m\u001b[43m(\u001b[49m\u001b[43m)\u001b[49m\n\u001b[1;32m      9\u001b[0m \u001b[38;5;28mprint\u001b[39m(settings)\n",
      "File \u001b[0;32m~/.pyenv/versions/3.12.4/lib/python3.12/site-packages/pydantic_settings/main.py:171\u001b[0m, in \u001b[0;36mBaseSettings.__init__\u001b[0;34m(__pydantic_self__, _case_sensitive, _nested_model_default_partial_update, _env_prefix, _env_file, _env_file_encoding, _env_ignore_empty, _env_nested_delimiter, _env_parse_none_str, _env_parse_enums, _cli_prog_name, _cli_parse_args, _cli_settings_source, _cli_parse_none_str, _cli_hide_none_type, _cli_avoid_json, _cli_enforce_required, _cli_use_class_docs_for_groups, _cli_exit_on_error, _cli_prefix, _cli_flag_prefix_char, _cli_implicit_flags, _cli_ignore_unknown_args, _cli_kebab_case, _secrets_dir, **values)\u001b[0m\n\u001b[1;32m    142\u001b[0m \u001b[38;5;28;01mdef\u001b[39;00m\u001b[38;5;250m \u001b[39m\u001b[38;5;21m__init__\u001b[39m(\n\u001b[1;32m    143\u001b[0m     __pydantic_self__,\n\u001b[1;32m    144\u001b[0m     _case_sensitive: \u001b[38;5;28mbool\u001b[39m \u001b[38;5;241m|\u001b[39m \u001b[38;5;28;01mNone\u001b[39;00m \u001b[38;5;241m=\u001b[39m \u001b[38;5;28;01mNone\u001b[39;00m,\n\u001b[0;32m   (...)\u001b[0m\n\u001b[1;32m    169\u001b[0m ) \u001b[38;5;241m-\u001b[39m\u001b[38;5;241m>\u001b[39m \u001b[38;5;28;01mNone\u001b[39;00m:\n\u001b[1;32m    170\u001b[0m     \u001b[38;5;66;03m# Uses something other than `self` the first arg to allow \"self\" as a settable attribute\u001b[39;00m\n\u001b[0;32m--> 171\u001b[0m     \u001b[38;5;28;43msuper\u001b[39;49m\u001b[43m(\u001b[49m\u001b[43m)\u001b[49m\u001b[38;5;241;43m.\u001b[39;49m\u001b[38;5;21;43m__init__\u001b[39;49m\u001b[43m(\u001b[49m\n\u001b[1;32m    172\u001b[0m \u001b[43m        \u001b[49m\u001b[38;5;241;43m*\u001b[39;49m\u001b[38;5;241;43m*\u001b[39;49m\u001b[43m__pydantic_self__\u001b[49m\u001b[38;5;241;43m.\u001b[39;49m\u001b[43m_settings_build_values\u001b[49m\u001b[43m(\u001b[49m\n\u001b[1;32m    173\u001b[0m \u001b[43m            \u001b[49m\u001b[43mvalues\u001b[49m\u001b[43m,\u001b[49m\n\u001b[1;32m    174\u001b[0m \u001b[43m            \u001b[49m\u001b[43m_case_sensitive\u001b[49m\u001b[38;5;241;43m=\u001b[39;49m\u001b[43m_case_sensitive\u001b[49m\u001b[43m,\u001b[49m\n\u001b[1;32m    175\u001b[0m \u001b[43m            \u001b[49m\u001b[43m_nested_model_default_partial_update\u001b[49m\u001b[38;5;241;43m=\u001b[39;49m\u001b[43m_nested_model_default_partial_update\u001b[49m\u001b[43m,\u001b[49m\n\u001b[1;32m    176\u001b[0m \u001b[43m            \u001b[49m\u001b[43m_env_prefix\u001b[49m\u001b[38;5;241;43m=\u001b[39;49m\u001b[43m_env_prefix\u001b[49m\u001b[43m,\u001b[49m\n\u001b[1;32m    177\u001b[0m \u001b[43m            \u001b[49m\u001b[43m_env_file\u001b[49m\u001b[38;5;241;43m=\u001b[39;49m\u001b[43m_env_file\u001b[49m\u001b[43m,\u001b[49m\n\u001b[1;32m    178\u001b[0m \u001b[43m            \u001b[49m\u001b[43m_env_file_encoding\u001b[49m\u001b[38;5;241;43m=\u001b[39;49m\u001b[43m_env_file_encoding\u001b[49m\u001b[43m,\u001b[49m\n\u001b[1;32m    179\u001b[0m \u001b[43m            \u001b[49m\u001b[43m_env_ignore_empty\u001b[49m\u001b[38;5;241;43m=\u001b[39;49m\u001b[43m_env_ignore_empty\u001b[49m\u001b[43m,\u001b[49m\n\u001b[1;32m    180\u001b[0m \u001b[43m            \u001b[49m\u001b[43m_env_nested_delimiter\u001b[49m\u001b[38;5;241;43m=\u001b[39;49m\u001b[43m_env_nested_delimiter\u001b[49m\u001b[43m,\u001b[49m\n\u001b[1;32m    181\u001b[0m \u001b[43m            \u001b[49m\u001b[43m_env_parse_none_str\u001b[49m\u001b[38;5;241;43m=\u001b[39;49m\u001b[43m_env_parse_none_str\u001b[49m\u001b[43m,\u001b[49m\n\u001b[1;32m    182\u001b[0m \u001b[43m            \u001b[49m\u001b[43m_env_parse_enums\u001b[49m\u001b[38;5;241;43m=\u001b[39;49m\u001b[43m_env_parse_enums\u001b[49m\u001b[43m,\u001b[49m\n\u001b[1;32m    183\u001b[0m \u001b[43m            \u001b[49m\u001b[43m_cli_prog_name\u001b[49m\u001b[38;5;241;43m=\u001b[39;49m\u001b[43m_cli_prog_name\u001b[49m\u001b[43m,\u001b[49m\n\u001b[1;32m    184\u001b[0m \u001b[43m            \u001b[49m\u001b[43m_cli_parse_args\u001b[49m\u001b[38;5;241;43m=\u001b[39;49m\u001b[43m_cli_parse_args\u001b[49m\u001b[43m,\u001b[49m\n\u001b[1;32m    185\u001b[0m \u001b[43m            \u001b[49m\u001b[43m_cli_settings_source\u001b[49m\u001b[38;5;241;43m=\u001b[39;49m\u001b[43m_cli_settings_source\u001b[49m\u001b[43m,\u001b[49m\n\u001b[1;32m    186\u001b[0m \u001b[43m            \u001b[49m\u001b[43m_cli_parse_none_str\u001b[49m\u001b[38;5;241;43m=\u001b[39;49m\u001b[43m_cli_parse_none_str\u001b[49m\u001b[43m,\u001b[49m\n\u001b[1;32m    187\u001b[0m \u001b[43m            \u001b[49m\u001b[43m_cli_hide_none_type\u001b[49m\u001b[38;5;241;43m=\u001b[39;49m\u001b[43m_cli_hide_none_type\u001b[49m\u001b[43m,\u001b[49m\n\u001b[1;32m    188\u001b[0m \u001b[43m            \u001b[49m\u001b[43m_cli_avoid_json\u001b[49m\u001b[38;5;241;43m=\u001b[39;49m\u001b[43m_cli_avoid_json\u001b[49m\u001b[43m,\u001b[49m\n\u001b[1;32m    189\u001b[0m \u001b[43m            \u001b[49m\u001b[43m_cli_enforce_required\u001b[49m\u001b[38;5;241;43m=\u001b[39;49m\u001b[43m_cli_enforce_required\u001b[49m\u001b[43m,\u001b[49m\n\u001b[1;32m    190\u001b[0m \u001b[43m            \u001b[49m\u001b[43m_cli_use_class_docs_for_groups\u001b[49m\u001b[38;5;241;43m=\u001b[39;49m\u001b[43m_cli_use_class_docs_for_groups\u001b[49m\u001b[43m,\u001b[49m\n\u001b[1;32m    191\u001b[0m \u001b[43m            \u001b[49m\u001b[43m_cli_exit_on_error\u001b[49m\u001b[38;5;241;43m=\u001b[39;49m\u001b[43m_cli_exit_on_error\u001b[49m\u001b[43m,\u001b[49m\n\u001b[1;32m    192\u001b[0m \u001b[43m            \u001b[49m\u001b[43m_cli_prefix\u001b[49m\u001b[38;5;241;43m=\u001b[39;49m\u001b[43m_cli_prefix\u001b[49m\u001b[43m,\u001b[49m\n\u001b[1;32m    193\u001b[0m \u001b[43m            \u001b[49m\u001b[43m_cli_flag_prefix_char\u001b[49m\u001b[38;5;241;43m=\u001b[39;49m\u001b[43m_cli_flag_prefix_char\u001b[49m\u001b[43m,\u001b[49m\n\u001b[1;32m    194\u001b[0m \u001b[43m            \u001b[49m\u001b[43m_cli_implicit_flags\u001b[49m\u001b[38;5;241;43m=\u001b[39;49m\u001b[43m_cli_implicit_flags\u001b[49m\u001b[43m,\u001b[49m\n\u001b[1;32m    195\u001b[0m \u001b[43m            \u001b[49m\u001b[43m_cli_ignore_unknown_args\u001b[49m\u001b[38;5;241;43m=\u001b[39;49m\u001b[43m_cli_ignore_unknown_args\u001b[49m\u001b[43m,\u001b[49m\n\u001b[1;32m    196\u001b[0m \u001b[43m            \u001b[49m\u001b[43m_cli_kebab_case\u001b[49m\u001b[38;5;241;43m=\u001b[39;49m\u001b[43m_cli_kebab_case\u001b[49m\u001b[43m,\u001b[49m\n\u001b[1;32m    197\u001b[0m \u001b[43m            \u001b[49m\u001b[43m_secrets_dir\u001b[49m\u001b[38;5;241;43m=\u001b[39;49m\u001b[43m_secrets_dir\u001b[49m\u001b[43m,\u001b[49m\n\u001b[1;32m    198\u001b[0m \u001b[43m        \u001b[49m\u001b[43m)\u001b[49m\n\u001b[1;32m    199\u001b[0m \u001b[43m    \u001b[49m\u001b[43m)\u001b[49m\n",
      "File \u001b[0;32m~/.pyenv/versions/3.12.4/lib/python3.12/site-packages/pydantic/main.py:212\u001b[0m, in \u001b[0;36mBaseModel.__init__\u001b[0;34m(self, **data)\u001b[0m\n\u001b[1;32m    210\u001b[0m \u001b[38;5;66;03m# `__tracebackhide__` tells pytest and some other tools to omit this function from tracebacks\u001b[39;00m\n\u001b[1;32m    211\u001b[0m __tracebackhide__ \u001b[38;5;241m=\u001b[39m \u001b[38;5;28;01mTrue\u001b[39;00m\n\u001b[0;32m--> 212\u001b[0m validated_self \u001b[38;5;241m=\u001b[39m \u001b[38;5;28;43mself\u001b[39;49m\u001b[38;5;241;43m.\u001b[39;49m\u001b[43m__pydantic_validator__\u001b[49m\u001b[38;5;241;43m.\u001b[39;49m\u001b[43mvalidate_python\u001b[49m\u001b[43m(\u001b[49m\u001b[43mdata\u001b[49m\u001b[43m,\u001b[49m\u001b[43m \u001b[49m\u001b[43mself_instance\u001b[49m\u001b[38;5;241;43m=\u001b[39;49m\u001b[38;5;28;43mself\u001b[39;49m\u001b[43m)\u001b[49m\n\u001b[1;32m    213\u001b[0m \u001b[38;5;28;01mif\u001b[39;00m \u001b[38;5;28mself\u001b[39m \u001b[38;5;129;01mis\u001b[39;00m \u001b[38;5;129;01mnot\u001b[39;00m validated_self:\n\u001b[1;32m    214\u001b[0m     warnings\u001b[38;5;241m.\u001b[39mwarn(\n\u001b[1;32m    215\u001b[0m         \u001b[38;5;124m'\u001b[39m\u001b[38;5;124mA custom validator is returning a value other than `self`.\u001b[39m\u001b[38;5;130;01m\\n\u001b[39;00m\u001b[38;5;124m'\u001b[39m\n\u001b[1;32m    216\u001b[0m         \u001b[38;5;124m\"\u001b[39m\u001b[38;5;124mReturning anything other than `self` from a top level model validator isn\u001b[39m\u001b[38;5;124m'\u001b[39m\u001b[38;5;124mt supported when validating via `__init__`.\u001b[39m\u001b[38;5;130;01m\\n\u001b[39;00m\u001b[38;5;124m\"\u001b[39m\n\u001b[1;32m    217\u001b[0m         \u001b[38;5;124m'\u001b[39m\u001b[38;5;124mSee the `model_validator` docs (https://docs.pydantic.dev/latest/concepts/validators/#model-validators) for more details.\u001b[39m\u001b[38;5;124m'\u001b[39m,\n\u001b[1;32m    218\u001b[0m         category\u001b[38;5;241m=\u001b[39m\u001b[38;5;28;01mNone\u001b[39;00m,\n\u001b[1;32m    219\u001b[0m     )\n",
      "\u001b[0;31mValidationError\u001b[0m: 2 validation errors for Settings\ndatabase_url\n  Field required [type=missing, input_value={}, input_type=dict]\n    For further information visit https://errors.pydantic.dev/2.9/v/missing\napi_key\n  Field required [type=missing, input_value={}, input_type=dict]\n    For further information visit https://errors.pydantic.dev/2.9/v/missing"
     ]
    }
   ],
   "source": [
    "# Settings Management\n",
    "from pydantic_settings import BaseSettings\n",
    "\n",
    "class Settings(BaseSettings):\n",
    "    database_url: str\n",
    "    api_key: str\n",
    "    debug_mode: bool = False\n",
    "\n",
    "settings = Settings()\n",
    "print(settings)"
   ]
  },
  {
   "cell_type": "code",
   "execution_count": 10,
   "metadata": {},
   "outputs": [
    {
     "name": "stdout",
     "output_type": "stream",
     "text": [
      "{\"properties\": {\"username\": {\"title\": \"Username\", \"type\": \"string\"}, \"age\": {\"title\": \"Age\", \"type\": \"integer\"}, \"email\": {\"title\": \"Email\", \"type\": \"string\"}, \"is_active\": {\"default\": true, \"title\": \"Is Active\", \"type\": \"boolean\"}, \"tags\": {\"default\": [], \"items\": {\"type\": \"string\"}, \"title\": \"Tags\", \"type\": \"array\"}, \"profile_picture\": {\"anyOf\": [{\"type\": \"string\"}, {\"type\": \"null\"}], \"default\": null, \"title\": \"Profile Picture\"}}, \"required\": [\"username\", \"age\", \"email\"], \"title\": \"User\", \"type\": \"object\"}\n"
     ]
    }
   ],
   "source": [
    "# JSON Schema Generation\n",
    "import json\n",
    "print(json.dumps(User.model_json_schema()))"
   ]
  }
 ],
 "metadata": {
  "kernelspec": {
   "display_name": "Python 3",
   "language": "python",
   "name": "python3"
  },
  "language_info": {
   "codemirror_mode": {
    "name": "ipython",
    "version": 3
   },
   "file_extension": ".py",
   "mimetype": "text/x-python",
   "name": "python",
   "nbconvert_exporter": "python",
   "pygments_lexer": "ipython3",
   "version": "3.12.4"
  }
 },
 "nbformat": 4,
 "nbformat_minor": 2
}
