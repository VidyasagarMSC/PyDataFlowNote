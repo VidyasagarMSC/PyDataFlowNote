{
 "cells": [
  {
   "cell_type": "code",
   "execution_count": 1,
   "id": "79a8885b-7f92-42bf-b456-7ce4fa166c38",
   "metadata": {},
   "outputs": [
    {
     "name": "stdout",
     "output_type": "stream",
     "text": [
      "Requirement already satisfied: numpy in /Users/vmac/.pyenv/versions/3.9.13/lib/python3.9/site-packages (1.26.3)\n",
      "Requirement already satisfied: scipy in /Users/vmac/.pyenv/versions/3.9.13/lib/python3.9/site-packages (1.11.4)\n",
      "Requirement already satisfied: numpy<1.28.0,>=1.21.6 in /Users/vmac/.pyenv/versions/3.9.13/lib/python3.9/site-packages (from scipy) (1.26.3)\n"
     ]
    }
   ],
   "source": [
    "# Install the prerequisites for you to run the notebook\n",
    "!pip install numpy\n",
    "!pip install scipy"
   ]
  },
  {
   "cell_type": "code",
   "execution_count": 2,
   "id": "59509a0a-af20-4503-a8d0-b19695880353",
   "metadata": {},
   "outputs": [
    {
     "name": "stdout",
     "output_type": "stream",
     "text": [
      "Vector 1: [1 1]\n",
      "Vector 2: [2 4]\n",
      "shape & size of Vector1 & Vector2: (2,) 2\n"
     ]
    }
   ],
   "source": [
    "# Define a 1D vector\n",
    "import numpy as np\n",
    "\n",
    "vector1 = np.random.randint(1,5,2)\n",
    "vector2 = np.random.randint(1,5,2)\n",
    "print(\"Vector 1:\",vector1)\n",
    "print(\"Vector 2:\",vector2)\n",
    "print(f\"shape & size of Vector1 & Vector2:\", vector1.shape, vector1.size)"
   ]
  },
  {
   "cell_type": "code",
   "execution_count": 3,
   "id": "20d3a944-378b-43c4-a83e-0a4d23efe148",
   "metadata": {},
   "outputs": [
    {
     "data": {
      "image/png": "[encoded data removed]",
      "text/plain": [
       "<Figure size 640x480 with 1 Axes>"
      ]
     },
     "metadata": {},
     "output_type": "display_data"
    }
   ],
   "source": [
    "# Draw the vectors using MatplotLib\n",
    "import matplotlib.pyplot as plt\n",
    "%matplotlib inline\n",
    "\n",
    "origin = np.array([0,0])\n",
    "plt.quiver(*origin, vector1[0],vector1[1], angles='xy', color='r', scale_units='xy', scale=1)\n",
    "plt.quiver(*origin, vector2[0],vector2[1], angles='xy', color='b', scale_units='xy', scale=1)\n",
    "plt.plot([vector1[0],vector2[0]], [vector1[1],vector2[1]], 'go', linestyle=\"--\")\n",
    "plt.title('Single Vector') \n",
    "\n",
    "plt.xlim([0,5])\n",
    "plt.ylim([0,5])\n",
    "\n",
    "plt.grid() \n",
    "plt.show()"
   ]
  },
  {
   "cell_type": "code",
   "execution_count": 4,
   "id": "b15729dd-7ffa-4634-be5c-249440c00f76",
   "metadata": {},
   "outputs": [
    {
     "name": "stdout",
     "output_type": "stream",
     "text": [
      "The magnitude / distance from the origin 1.4142135623730951\n",
      "4.47213595499958\n",
      "L2 norm in scipy: 1.4142135623730951\n",
      "L2 norm in scipy: 4.47213595499958\n"
     ]
    },
    {
     "data": {
      "text/plain": [
       "array([[1.41421356]])"
      ]
     },
     "execution_count": 4,
     "metadata": {},
     "output_type": "execute_result"
    }
   ],
   "source": [
    "# L2 (Euclidean) norm of a vector\n",
    "# NumPy\n",
    "norm1 = np.linalg.norm(vector1, ord=2)\n",
    "print(\"The magnitude / distance from the origin\",norm1)\n",
    "\n",
    "norm2 = np.linalg.norm(vector2, ord=2)\n",
    "print(norm2)\n",
    "\n",
    "# SciPy\n",
    "import scipy \n",
    "norm_vector1 = scipy.linalg.norm(vector1, ord=2)\n",
    "print(\"L2 norm in scipy:\", norm_vector1)\n",
    "\n",
    "norm_vector2 = scipy.linalg.norm(vector2, ord=2)\n",
    "print(\"L2 norm in scipy:\", norm_vector2)\n",
    "\n",
    "# Sklearn\n",
    "from sklearn.metrics.pairwise import euclidean_distances\n",
    "vector1_reshape = vector1.reshape(1,-1)\n",
    "euclidean_distances(vector1_reshape, [[0, 0]])"
   ]
  },
  {
   "cell_type": "code",
   "execution_count": 9,
   "id": "740f4e8b-37fb-4ad9-94b0-90ea6ac4fadf",
   "metadata": {},
   "outputs": [
    {
     "name": "stdout",
     "output_type": "stream",
     "text": [
      "3.1622776601683795\n",
      "3.1622776601683795\n"
     ]
    },
    {
     "data": {
      "text/plain": [
       "3.1622776601683795"
      ]
     },
     "execution_count": 9,
     "metadata": {},
     "output_type": "execute_result"
    }
   ],
   "source": [
    "# L2 of a vector\n",
    "import math\n",
    "vector_diff = vector1 - vector2\n",
    "\n",
    "euclidean_distance = np.linalg.norm(vector_diff)\n",
    "print(euclidean_distance)\n",
    "\n",
    "norm_dot = math.sqrt(np.dot(vector_diff.T,vector_diff))\n",
    "print(norm_dot)\n",
    "\n",
    "from scipy.spatial import distance\n",
    "distance.euclidean(vector1,vector2)"
   ]
  },
  {
   "cell_type": "code",
   "execution_count": null,
   "id": "37b96a25-119c-4c67-a4d4-309b7477f77b",
   "metadata": {},
   "outputs": [],
   "source": []
  },
  {
   "cell_type": "code",
   "execution_count": null,
   "id": "0cd3d97c-a28c-4986-baf4-d651493f7b84",
   "metadata": {},
   "outputs": [],
   "source": []
  }
 ],
 "metadata": {
  "kernelspec": {
   "display_name": "Python 3 (ipykernel)",
   "language": "python",
   "name": "python3"
  },
  "language_info": {
   "codemirror_mode": {
    "name": "ipython",
    "version": 3
   },
   "file_extension": ".py",
   "mimetype": "text/x-python",
   "name": "python",
   "nbconvert_exporter": "python",
   "pygments_lexer": "ipython3",
   "version": "3.9.13"
  }
 },
 "nbformat": 4,
 "nbformat_minor": 5
}
