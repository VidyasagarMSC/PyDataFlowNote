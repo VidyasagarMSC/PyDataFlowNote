{
 "cells": [
  {
   "cell_type": "markdown",
   "id": "74780eca-b077-47b0-8f76-e29a2cf09b45",
   "metadata": {},
   "source": [
    "# Calculate the Euclidean (norm / distance) of a single dimensional(1D) tensor in Numpy, SciPy, Scikit-Learn, TensorFlow & PyTorch"
   ]
  },
  {
   "cell_type": "code",
   "execution_count": 1,
   "id": "79a8885b-7f92-42bf-b456-7ce4fa166c38",
   "metadata": {
    "scrolled": true
   },
   "outputs": [
    {
     "name": "stdout",
     "output_type": "stream",
     "text": [
     ]
    }
   ],
   "source": [
    "# Install the prerequisites for you to run the notebook\n",
    "!pip install numpy\n",
    "!pip install scipy\n",
    "%pip install torch\n",
    "!pip install tensorflow"
   ]
  },
  {
   "cell_type": "code",
   "execution_count": 2,
   "id": "59509a0a-af20-4503-a8d0-b19695880353",
   "metadata": {},
   "outputs": [
    {
     "name": "stdout",
     "output_type": "stream",
     "text": [
      "Vector 1: [3 7]\n",
      "Vector 2: [5 2]\n",
      "shape & size of Vector1 & Vector2: (2,) 2\n"
     ]
    }
   ],
   "source": [
    "# Define a single dimensional (1D) tensor \n",
    "import numpy as np\n",
    "\n",
    "vector1 = np.array([3,7])#np.random.randint(1,5,2)\n",
    "vector2 = np.array([5,2])#np.random.randint(1,5,2)\n",
    "print(\"Vector 1:\",vector1)\n",
    "print(\"Vector 2:\",vector2)\n",
    "print(f\"shape & size of Vector1 & Vector2:\", vector1.shape, vector1.size)"
   ]
  },
  {
   "cell_type": "code",
   "execution_count": 3,
   "id": "20d3a944-378b-43c4-a83e-0a4d23efe148",
   "metadata": {},
   "outputs": [
    {
     "data": {
      "image/png": "[encoded data removed]",
      "text/plain": [
       "<Figure size 640x480 with 1 Axes>"
      ]
     },
     "metadata": {},
     "output_type": "display_data"
    }
   ],
   "source": [
    "# Draw the vectors using MatplotLib\n",
    "import matplotlib.pyplot as plt\n",
    "%matplotlib inline\n",
    "\n",
    "origin = np.array([0,0])\n",
    "plt.quiver(*origin, vector1[0],vector1[1], angles='xy', color='r', scale_units='xy', scale=1)\n",
    "plt.quiver(*origin, vector2[0],vector2[1], angles='xy', color='b', scale_units='xy', scale=1)\n",
    "plt.plot([vector1[0],vector2[0]], [vector1[1],vector2[1]], 'go', linestyle=\"--\")\n",
    "plt.title('Vector Representation') \n",
    "\n",
    "plt.xlim([0,10])\n",
    "plt.ylim([0,10])\n",
    "\n",
    "plt.grid() \n",
    "plt.show()"
   ]
  },
  {
   "cell_type": "markdown",
   "id": "f684667a-3a9e-41b2-93a5-fc612293a225",
   "metadata": {},
   "source": [
    "## Understand Norm vs Distance \n",
    "\n",
    "1. Norm is the distance / length /size of the vector from the origin (0,0).\n",
    "2. Distance is the distance/ length / size between two vectors."
   ]
  },
  {
   "cell_type": "code",
   "execution_count": 4,
   "id": "b15729dd-7ffa-4634-be5c-249440c00f76",
   "metadata": {},
   "outputs": [
    {
     "name": "stdout",
     "output_type": "stream",
     "text": [
      "The magnitude / distance from the origin 7.615773105863909\n",
      "The magnitude / distance from the origin 5.385164807134504\n"
     ]
    }
   ],
   "source": [
    "# L2 (Euclidean) norm of a vector\n",
    "# NumPy\n",
    "norm1 = np.linalg.norm(vector1, ord=2)\n",
    "print(\"The magnitude / distance from the origin\",norm1)\n",
    "\n",
    "norm2 = np.linalg.norm(vector2, ord=2)\n",
    "print(\"The magnitude / distance from the origin\",norm2)\n"
   ]
  },
  {
   "cell_type": "code",
   "execution_count": 5,
   "id": "b8aa8512-f557-493e-bc35-b3f9753a83fd",
   "metadata": {},
   "outputs": [
    {
     "name": "stdout",
     "output_type": "stream",
     "text": [
      "L2 norm in scipy for vector1: 7.615773105863909\n",
      "L2 norm in scipy for vector2: 5.385164807134504\n"
     ]
    }
   ],
   "source": [
    "# SciPy\n",
    "import scipy \n",
    "norm_vector1 = scipy.linalg.norm(vector1, ord=2)\n",
    "print(\"L2 norm in scipy for vector1:\", norm_vector1)\n",
    "\n",
    "norm_vector2 = scipy.linalg.norm(vector2, ord=2)\n",
    "print(\"L2 norm in scipy for vector2:\", norm_vector2)"
   ]
  },
  {
   "cell_type": "code",
   "execution_count": 6,
   "id": "f13c852f-d51c-4982-8ca5-3a76cee987c9",
   "metadata": {},
   "outputs": [
    {
     "data": {
      "text/plain": [
       "7.615773105863909"
      ]
     },
     "execution_count": 6,
     "metadata": {},
     "output_type": "execute_result"
    }
   ],
   "source": [
    "# Sklearn\n",
    "from sklearn.metrics.pairwise import euclidean_distances\n",
    "vector1_reshape = vector1.reshape(1,-1)\n",
    "## Scikit-learn expects the vector to be 2-Dimensional\n",
    "euclidean_distances(vector1_reshape, [[0, 0]])[0,0]"
   ]
  },
  {
   "cell_type": "code",
   "execution_count": 7,
   "id": "bce5bc4d-66fd-48da-863f-9b342112818a",
   "metadata": {},
   "outputs": [
    {
     "name": "stdout",
     "output_type": "stream",
     "text": [
      "TensorFlow version: 2.15.0\n",
      "Euclidean(l2) norm in TensorFlow: 7.615773105863909\n"
     ]
    }
   ],
   "source": [
    "# TensorFlow\n",
    "import os\n",
    "os.environ['TF_CPP_MIN_LOG_LEVEL'] = '1' \n",
    "\n",
    "import tensorflow as tf\n",
    "print(\"TensorFlow version:\", tf.__version__)\n",
    "\n",
    "## Tensorflow expects Tensor of types float32, float64, complex64, complex128\n",
    "vector1_tf = vector1.astype(np.float64)\n",
    "tf_norm = tf.norm(vector1_tf, ord=2)\n",
    "print(\"Euclidean(l2) norm in TensorFlow:\",tf_norm.numpy())"
   ]
  },
  {
   "cell_type": "code",
   "execution_count": 8,
   "id": "f8b292d1-74b4-4959-b932-1695c22260ba",
   "metadata": {},
   "outputs": [
    {
     "name": "stdout",
     "output_type": "stream",
     "text": [
      "PyTorch version: 2.1.2\n"
     ]
    },
    {
     "data": {
      "text/plain": [
       "7.615773105863909"
      ]
     },
     "execution_count": 8,
     "metadata": {},
     "output_type": "execute_result"
    }
   ],
   "source": [
    "# PyTorch\n",
    "import torch\n",
    "print(\"PyTorch version:\", torch.__version__)\n",
    "\n",
    "norm_torch = torch.linalg.norm(torch.from_numpy(vector1_tf), ord=2)\n",
    "norm_torch.item()"
   ]
  },
  {
   "cell_type": "markdown",
   "id": "7261d097-0b2b-427b-9e89-0edd69493987",
   "metadata": {},
   "source": [
    "## Euclidean distance"
   ]
  },
  {
   "cell_type": "code",
   "execution_count": 9,
   "id": "740f4e8b-37fb-4ad9-94b0-90ea6ac4fadf",
   "metadata": {},
   "outputs": [
    {
     "name": "stdout",
     "output_type": "stream",
     "text": [
      "5.385164807134504\n",
      "5.385164807134504\n"
     ]
    }
   ],
   "source": [
    "# Euclidean distance between the vectors\n",
    "import math\n",
    "vector_diff = vector1 - vector2\n",
    "\n",
    "# Using norm\n",
    "euclidean_distance = np.linalg.norm(vector_diff, ord=2)\n",
    "print(euclidean_distance)\n",
    "\n",
    "# Using dot product\n",
    "norm_dot = math.sqrt(np.dot(vector_diff.T,vector_diff))\n",
    "print(norm_dot)"
   ]
  },
  {
   "cell_type": "code",
   "execution_count": 10,
   "id": "052d889b-052c-4041-b4e2-53a4f4ab2bb6",
   "metadata": {},
   "outputs": [
    {
     "data": {
      "text/plain": [
       "5.385164807134504"
      ]
     },
     "execution_count": 10,
     "metadata": {},
     "output_type": "execute_result"
    }
   ],
   "source": [
    "# SciPy\n",
    "from scipy.spatial import distance\n",
    "distance.euclidean(vector1,vector2)"
   ]
  },
  {
   "cell_type": "code",
   "execution_count": null,
   "id": "796a170a-7154-4d4a-a7dd-eb1a1f84a5db",
   "metadata": {},
   "outputs": [],
   "source": []
  }
 ],
 "metadata": {
  "kernelspec": {
   "display_name": "Python 3 (ipykernel)",
   "language": "python",
   "name": "python3"
  },
  "language_info": {
   "codemirror_mode": {
    "name": "ipython",
    "version": 3
   },
   "file_extension": ".py",
   "mimetype": "text/x-python",
   "name": "python",
   "nbconvert_exporter": "python",
   "pygments_lexer": "ipython3",
   "version": "3.9.13"
  }
 },
 "nbformat": 4,
 "nbformat_minor": 5
}
