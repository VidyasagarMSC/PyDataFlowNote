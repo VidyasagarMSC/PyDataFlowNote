{
  "cells": [
    {
      "cell_type": "markdown",
      "metadata": {
        "id": "view-in-github",
        "colab_type": "text"
      },
      "source": [
        "<a href=\"https://colab.research.google.com/github/VidyasagarMSC/PyDataFlowNote/blob/main/data_processing/libraries.ipynb\" target=\"_parent\"><img src=\"https://colab.research.google.com/assets/colab-badge.svg\" alt=\"Open In Colab\"/></a>"
      ]
    },
    {
      "cell_type": "markdown",
      "metadata": {
        "id": "Ve-euvvhTShY"
      },
      "source": [
        "# Benchmarking the modern data processing libraries"
      ]
    },
    {
      "cell_type": "code",
      "execution_count": 1,
      "metadata": {
        "colab": {
          "base_uri": "https://localhost:8080/"
        },
        "id": "ypjWHgtLTShb",
        "outputId": "3322c312-4878-435c-cf66-1fd5a70479df"
      },
      "outputs": [
        {
          "output_type": "stream",
          "name": "stdout",
          "text": [
            "Requirement already satisfied: pandas in /usr/local/lib/python3.11/dist-packages (2.2.2)\n",
            "Requirement already satisfied: dask in /usr/local/lib/python3.11/dist-packages (2024.11.2)\n",
            "Requirement already satisfied: duckdb in /usr/local/lib/python3.11/dist-packages (1.1.3)\n",
            "Requirement already satisfied: modin in /usr/local/lib/python3.11/dist-packages (0.32.0)\n",
            "Requirement already satisfied: polars in /usr/local/lib/python3.11/dist-packages (1.14.0)\n",
            "Requirement already satisfied: matplotlib in /usr/local/lib/python3.11/dist-packages (3.10.0)\n",
            "Requirement already satisfied: fireducks in /usr/local/lib/python3.11/dist-packages (1.2.3)\n",
            "Requirement already satisfied: datatable in /usr/local/lib/python3.11/dist-packages (1.1.0)\n",
            "Requirement already satisfied: numpy>=1.23.2 in /usr/local/lib/python3.11/dist-packages (from pandas) (1.26.4)\n",
            "Requirement already satisfied: python-dateutil>=2.8.2 in /usr/local/lib/python3.11/dist-packages (from pandas) (2.8.2)\n",
            "Requirement already satisfied: pytz>=2020.1 in /usr/local/lib/python3.11/dist-packages (from pandas) (2025.1)\n",
            "Requirement already satisfied: tzdata>=2022.7 in /usr/local/lib/python3.11/dist-packages (from pandas) (2025.1)\n",
            "Requirement already satisfied: click>=8.1 in /usr/local/lib/python3.11/dist-packages (from dask) (8.1.8)\n",
            "Requirement already satisfied: cloudpickle>=3.0.0 in /usr/local/lib/python3.11/dist-packages (from dask) (3.1.1)\n",
            "Requirement already satisfied: fsspec>=2021.09.0 in /usr/local/lib/python3.11/dist-packages (from dask) (2024.10.0)\n",
            "Requirement already satisfied: packaging>=20.0 in /usr/local/lib/python3.11/dist-packages (from dask) (24.2)\n",
            "Requirement already satisfied: partd>=1.4.0 in /usr/local/lib/python3.11/dist-packages (from dask) (1.4.2)\n",
            "Requirement already satisfied: pyyaml>=5.3.1 in /usr/local/lib/python3.11/dist-packages (from dask) (6.0.2)\n",
            "Requirement already satisfied: toolz>=0.10.0 in /usr/local/lib/python3.11/dist-packages (from dask) (0.12.1)\n",
            "Requirement already satisfied: importlib-metadata>=4.13.0 in /usr/local/lib/python3.11/dist-packages (from dask) (8.6.1)\n",
            "Requirement already satisfied: psutil>=5.8.0 in /usr/local/lib/python3.11/dist-packages (from modin) (5.9.5)\n",
            "Requirement already satisfied: contourpy>=1.0.1 in /usr/local/lib/python3.11/dist-packages (from matplotlib) (1.3.1)\n",
            "Requirement already satisfied: cycler>=0.10 in /usr/local/lib/python3.11/dist-packages (from matplotlib) (0.12.1)\n",
            "Requirement already satisfied: fonttools>=4.22.0 in /usr/local/lib/python3.11/dist-packages (from matplotlib) (4.56.0)\n",
            "Requirement already satisfied: kiwisolver>=1.3.1 in /usr/local/lib/python3.11/dist-packages (from matplotlib) (1.4.8)\n",
            "Requirement already satisfied: pillow>=8 in /usr/local/lib/python3.11/dist-packages (from matplotlib) (11.1.0)\n",
            "Requirement already satisfied: pyparsing>=2.3.1 in /usr/local/lib/python3.11/dist-packages (from matplotlib) (3.2.1)\n",
            "Requirement already satisfied: firefw==1.2.3 in /usr/local/lib/python3.11/dist-packages (from fireducks) (1.2.3)\n",
            "Requirement already satisfied: pyarrow<19.1,>=19.0 in /usr/local/lib/python3.11/dist-packages (from fireducks) (19.0.1)\n",
            "Requirement already satisfied: zipp>=3.20 in /usr/local/lib/python3.11/dist-packages (from importlib-metadata>=4.13.0->dask) (3.21.0)\n",
            "Requirement already satisfied: locket in /usr/local/lib/python3.11/dist-packages (from partd>=1.4.0->dask) (1.0.0)\n",
            "Requirement already satisfied: six>=1.5 in /usr/local/lib/python3.11/dist-packages (from python-dateutil>=2.8.2->pandas) (1.17.0)\n"
          ]
        }
      ],
      "source": [
        "# Install required libraries\n",
        "!pip install pandas dask duckdb modin polars matplotlib fireducks datatable\n"
      ]
    },
    {
      "cell_type": "code",
      "execution_count": 2,
      "metadata": {
        "colab": {
          "base_uri": "https://localhost:8080/",
          "height": 658
        },
        "id": "whTD2CQhj5v9",
        "outputId": "a30e85f7-57b9-4d41-dd2f-47043e681c80"
      },
      "outputs": [
        {
          "output_type": "display_data",
          "data": {
            "text/plain": [
              "<IPython.core.display.HTML object>"
            ],
            "text/html": [
              "<style type='text/css'>\n",
              ".datatable table.frame { margin-bottom: 0; }\n",
              ".datatable table.frame thead { border-bottom: none; }\n",
              ".datatable table.frame tr.coltypes td {  color: #FFFFFF;  line-height: 6px;  padding: 0 0.5em;}\n",
              ".datatable .bool    { background: #DDDD99; }\n",
              ".datatable .object  { background: #565656; }\n",
              ".datatable .int     { background: #5D9E5D; }\n",
              ".datatable .float   { background: #4040CC; }\n",
              ".datatable .str     { background: #CC4040; }\n",
              ".datatable .time    { background: #40CC40; }\n",
              ".datatable .row_index {  background: var(--jp-border-color3);  border-right: 1px solid var(--jp-border-color0);  color: var(--jp-ui-font-color3);  font-size: 9px;}\n",
              ".datatable .frame tbody td { text-align: left; }\n",
              ".datatable .frame tr.coltypes .row_index {  background: var(--jp-border-color0);}\n",
              ".datatable th:nth-child(2) { padding-left: 12px; }\n",
              ".datatable .hellipsis {  color: var(--jp-cell-editor-border-color);}\n",
              ".datatable .vellipsis {  background: var(--jp-layout-color0);  color: var(--jp-cell-editor-border-color);}\n",
              ".datatable .na {  color: var(--jp-cell-editor-border-color);  font-size: 80%;}\n",
              ".datatable .sp {  opacity: 0.25;}\n",
              ".datatable .footer { font-size: 9px; }\n",
              ".datatable .frame_dimensions {  background: var(--jp-border-color3);  border-top: 1px solid var(--jp-border-color0);  color: var(--jp-ui-font-color3);  display: inline-block;  opacity: 0.6;  padding: 1px 10px 1px 5px;}\n",
              "</style>\n"
            ]
          },
          "metadata": {}
        },
        {
          "output_type": "stream",
          "name": "stdout",
          "text": [
            "0.0017192363739013672\n",
            "['Pandas', 'Dask', 'DuckDB', 'Modin', 'Polars', 'fireducks', 'datatable']\n",
            "[1.343212366104126, 0.022553682327270508, 1.0030252933502197, 1.3751804828643799, 0.29181933403015137, 0.0017192363739013672, 0.283968448638916]\n"
          ]
        },
        {
          "output_type": "display_data",
          "data": {
            "text/plain": [
              "<Figure size 1000x600 with 1 Axes>"
            ],
            "image/png": "[encoded data removed]"
          },
          "metadata": {}
        }
      ],
      "source": [
        "# Import necessary libraries\n",
        "import time\n",
        "import pandas as pd\n",
        "import dask.dataframe as dd\n",
        "import duckdb\n",
        "import fireducks.pandas as fpd\n",
        "import modin.pandas as mpd\n",
        "import polars as pl\n",
        "import numpy as np\n",
        "import matplotlib.pyplot as plt\n",
        "import datatable as dt\n",
        "from matplotlib.ticker import FormatStrFormatter\n",
        "\n",
        "# Function to create a random dataset\n",
        "def generate_large_dataframe(n_rows=1000000, n_columns=10):\n",
        "    data = np.random.rand(n_rows, n_columns)\n",
        "    df = pd.DataFrame(data, columns=[f'col_{i}' for i in range(n_columns)])\n",
        "    return df\n",
        "\n",
        "# Function to benchmark Pandas\n",
        "def benchmark_pandas(df):\n",
        "    start_time = time.time()\n",
        "    result = df.groupby('col_0').sum()\n",
        "    end_time = time.time()\n",
        "    return end_time - start_time\n",
        "\n",
        "# Function to benchmark Dask\n",
        "def benchmark_dask(df):\n",
        "    ddf = dd.from_pandas(df, npartitions=4)\n",
        "    start_time = time.time()\n",
        "    result = ddf.groupby('col_0').sum()\n",
        "    end_time = time.time()\n",
        "    return end_time - start_time\n",
        "\n",
        "# Function to benchmark Fireducks\n",
        "def benchmark_fireducks(df):\n",
        "    fdf = fpd.DataFrame(df)  # Assuming fireducks.pandas has DataFrame like pandas\n",
        "    start_time = time.time()\n",
        "    result = fdf.groupby('col_0').sum()\n",
        "    end_time = time.time()\n",
        "    return end_time - start_time\n",
        "\n",
        "# Function to benchmark DuckDB\n",
        "def benchmark_duckdb(df):\n",
        "    con = duckdb.connect()\n",
        "    start_time = time.time()\n",
        "    # Register the Pandas DataFrame as a DuckDB table and run the GROUP BY query\n",
        "    con.register('df', df)\n",
        "    result = con.execute('SELECT col_0, SUM(col_1) FROM df GROUP BY col_0').fetchall()\n",
        "    end_time = time.time()\n",
        "    return end_time - start_time\n",
        "\n",
        "# Function to benchmark Modin\n",
        "def benchmark_modin(df):\n",
        "    start_time = time.time()\n",
        "    result = df.groupby('col_0').sum()\n",
        "    end_time = time.time()\n",
        "    return end_time - start_time\n",
        "\n",
        "# Function to benchmark Polars\n",
        "def benchmark_polars(df):\n",
        "    pl_df = pl.from_pandas(df)\n",
        "    start_time = time.time()\n",
        "    result = pl_df.group_by('col_0').agg(pl.col('col_1').sum())\n",
        "    end_time = time.time()\n",
        "    return end_time - start_time\n",
        "\n",
        "def benchmark_datatable(df):\n",
        "    df_dt = dt.Frame(df)\n",
        "    start_time = time.time()\n",
        "    result_dt = df_dt[:, dt.sum(dt.f['col_1']), dt.by(dt.f['col_0'])]\n",
        "    end_time = time.time()\n",
        "    return end_time- start_time\n",
        "\n",
        "# Generate a large DataFrame for testing\n",
        "df = generate_large_dataframe()\n",
        "\n",
        "# Run benchmarks\n",
        "pandas_time = benchmark_pandas(df)\n",
        "dask_time = benchmark_dask(df)\n",
        "fireducks_time = benchmark_fireducks(df)\n",
        "print(fireducks_time)\n",
        "duckdb_time = benchmark_duckdb(df)\n",
        "modin_time = benchmark_modin(df)\n",
        "polars_time = benchmark_polars(df)\n",
        "datatable_time = benchmark_datatable(df)\n",
        "\n",
        "\n",
        "# Collect results into a list\n",
        "libraries = ['Pandas', 'Dask', 'DuckDB', 'Modin', 'Polars', 'fireducks', 'datatable']\n",
        "print(libraries)\n",
        "times = [pandas_time, dask_time, duckdb_time, modin_time, polars_time,fireducks_time,datatable_time]\n",
        "print(times)\n",
        "# Normalize the data\n",
        "total = sum(times)\n",
        "normalized = [v / total * 100 for v in times]\n",
        "\n",
        "# Create the stacked bar chart\n",
        "fig, ax = plt.subplots(figsize=(10, 6))\n",
        "ax.bar(range(len(libraries)), normalized, align='center')\n",
        "\n",
        "# Add labels and title\n",
        "ax.set_ylabel('Normalized Percentage')\n",
        "ax.set_title('Normalized Performance of DataFrame Libraries')\n",
        "ax.set_xticks(range(len(libraries)))\n",
        "ax.set_xticklabels(libraries, rotation=45, ha='right')\n",
        "\n",
        "# Add value labels on the bars\n",
        "for i, v in enumerate(normalized):\n",
        "    ax.text(i, v/2, f'{v:.2f}%', ha='center', va='center')\n",
        "\n",
        "# Add a legend with original values\n",
        "for i, (lib, val) in enumerate(zip(libraries, times)):\n",
        "    ax.text(1.02, 1 - i*0.1, f'{lib}: {val:.6f}', transform=ax.transAxes, va='top', ha='left')\n",
        "\n",
        "plt.tight_layout()\n",
        "plt.show()"
      ]
    },
    {
      "cell_type": "markdown",
      "source": [
        "## Using Polars"
      ],
      "metadata": {
        "id": "tGxqPh0uV-Up"
      }
    },
    {
      "cell_type": "code",
      "execution_count": 3,
      "metadata": {
        "colab": {
          "base_uri": "https://localhost:8080/"
        },
        "id": "-Ss4yfXXEVOt",
        "outputId": "f79fc7d4-48cf-4941-cd23-7e92714566cf"
      },
      "outputs": [
        {
          "output_type": "stream",
          "name": "stdout",
          "text": [
            "Pandas time: 0.1831 seconds\n",
            "Polars time: 0.0685 seconds\n",
            "Speedup: 2.67x\n"
          ]
        }
      ],
      "source": [
        "import polars as pl\n",
        "import pandas as pd\n",
        "import time\n",
        "\n",
        "# Sample data\n",
        "data = {'A': range(1000000), 'B': range(1000000, 2000000)}\n",
        "\n",
        "# Pandas benchmark\n",
        "start_time = time.time()\n",
        "df_pandas = pd.DataFrame(data)\n",
        "result_pandas = df_pandas.groupby('A').sum()\n",
        "pandas_time = time.time() - start_time\n",
        "\n",
        "# Polars benchmark\n",
        "start_time = time.time()\n",
        "df_polars = pl.DataFrame(data)\n",
        "result_polars = df_polars.group_by('A').sum()\n",
        "polars_time = time.time() - start_time\n",
        "\n",
        "print(f\"Pandas time: {pandas_time:.4f} seconds\")\n",
        "print(f\"Polars time: {polars_time:.4f} seconds\")\n",
        "print(f\"Speedup: {pandas_time / polars_time:.2f}x\")\n"
      ]
    },
    {
      "cell_type": "markdown",
      "source": [
        "## Using Modin"
      ],
      "metadata": {
        "id": "j7v6ObaJWB5i"
      }
    },
    {
      "cell_type": "code",
      "execution_count": 4,
      "metadata": {
        "colab": {
          "base_uri": "https://localhost:8080/"
        },
        "id": "uE7VhQxoyoj0",
        "outputId": "21166828-7292-4606-8d8f-ed1774d1bc9d"
      },
      "outputs": [
        {
          "output_type": "stream",
          "name": "stderr",
          "text": [
            "INFO:distributed.http.proxy:To route to workers diagnostics web server please install jupyter-server-proxy: python -m pip install jupyter-server-proxy\n",
            "INFO:distributed.scheduler:State start\n",
            "INFO:distributed.diskutils:Found stale lock file and directory '/tmp/dask-scratch-space/worker-52aimdbr', purging\n",
            "INFO:distributed.scheduler:  Scheduler at:     tcp://127.0.0.1:36751\n",
            "INFO:distributed.scheduler:  dashboard at:  http://127.0.0.1:8787/status\n",
            "INFO:distributed.scheduler:Registering Worker plugin shuffle\n",
            "INFO:distributed.nanny:        Start Nanny at: 'tcp://127.0.0.1:35839'\n",
            "INFO:distributed.nanny:        Start Nanny at: 'tcp://127.0.0.1:33463'\n",
            "INFO:distributed.scheduler:Register worker <WorkerState 'tcp://127.0.0.1:36011', name: 0, status: init, memory: 0, processing: 0>\n",
            "INFO:distributed.scheduler:Starting worker compute stream, tcp://127.0.0.1:36011\n",
            "INFO:distributed.core:Starting established connection to tcp://127.0.0.1:57424\n",
            "INFO:distributed.scheduler:Register worker <WorkerState 'tcp://127.0.0.1:46099', name: 1, status: init, memory: 0, processing: 0>\n",
            "INFO:distributed.scheduler:Starting worker compute stream, tcp://127.0.0.1:46099\n",
            "INFO:distributed.core:Starting established connection to tcp://127.0.0.1:57432\n",
            "INFO:distributed.scheduler:Receive client connection: Client-4504087e-f79d-11ef-8e29-0242ac1c000c\n",
            "INFO:distributed.core:Starting established connection to tcp://127.0.0.1:57448\n",
            "UserWarning: Distributing <class 'dict'> object. This may take some time.\n"
          ]
        },
        {
          "output_type": "stream",
          "name": "stdout",
          "text": [
            "Pandas time: 0.1690 seconds\n",
            "Modin time: 5.3533 seconds\n",
            "Speedup: 0.03x\n"
          ]
        }
      ],
      "source": [
        "import modin.pandas as mpd\n",
        "import pandas as pd\n",
        "import time\n",
        "\n",
        "# Sample data\n",
        "data = {'A': range(1000000), 'B': range(1000000, 2000000)}\n",
        "\n",
        "# Pandas benchmark\n",
        "start_time = time.time()\n",
        "df_pandas = pd.DataFrame(data)\n",
        "result_pandas = df_pandas.groupby('A').sum()\n",
        "pandas_time = time.time() - start_time\n",
        "\n",
        "# Modin benchmark\n",
        "start_time = time.time()\n",
        "df_modin = mpd.DataFrame(data)\n",
        "result_modin = df_modin.groupby('A').sum()\n",
        "modin_time = time.time() - start_time\n",
        "\n",
        "print(f\"Pandas time: {pandas_time:.4f} seconds\")\n",
        "print(f\"Modin time: {modin_time:.4f} seconds\")\n",
        "print(f\"Speedup: {pandas_time / modin_time:.2f}x\")\n"
      ]
    },
    {
      "cell_type": "markdown",
      "source": [
        "## Using Dask"
      ],
      "metadata": {
        "id": "Wf90SQ0lWEge"
      }
    },
    {
      "cell_type": "code",
      "execution_count": 5,
      "metadata": {
        "colab": {
          "base_uri": "https://localhost:8080/"
        },
        "id": "ZUF6qeQEFt5J",
        "outputId": "f56ce643-32e6-4ff7-c519-52edb9161f32"
      },
      "outputs": [
        {
          "output_type": "stream",
          "name": "stdout",
          "text": [
            "Pandas time: 0.2787 seconds\n",
            "Dask time: 0.0831 seconds\n",
            "Speedup: 3.35x\n"
          ]
        }
      ],
      "source": [
        "import dask.dataframe as dd\n",
        "import pandas as pd\n",
        "import time\n",
        "\n",
        "# Sample data\n",
        "data = {'A': range(1000000), 'B': range(1000000, 2000000)}\n",
        "\n",
        "# Pandas benchmark\n",
        "start_time = time.time()\n",
        "df_pandas = pd.DataFrame(data)\n",
        "result_pandas = df_pandas.groupby('A').sum()\n",
        "pandas_time = time.time() - start_time\n",
        "\n",
        "# Dask benchmark\n",
        "start_time = time.time()\n",
        "df_dask = dd.from_dict(data, npartitions=4) #dd.from_pandas(df_pandas, npartitions=4)\n",
        "result_dask = df_dask.groupby('A').sum()\n",
        "dask_time = time.time() - start_time\n",
        "\n",
        "print(f\"Pandas time: {pandas_time:.4f} seconds\")\n",
        "print(f\"Dask time: {dask_time:.4f} seconds\")\n",
        "print(f\"Speedup: {pandas_time / dask_time:.2f}x\")\n"
      ]
    },
    {
      "cell_type": "markdown",
      "source": [
        "## Using FireDucks"
      ],
      "metadata": {
        "id": "hfH-eg7HWHbM"
      }
    },
    {
      "cell_type": "code",
      "execution_count": 6,
      "metadata": {
        "colab": {
          "base_uri": "https://localhost:8080/"
        },
        "id": "I6KaGA4eQ7qH",
        "outputId": "041dfaf1-54c6-4967-98ae-c232644f18f6"
      },
      "outputs": [
        {
          "output_type": "stream",
          "name": "stdout",
          "text": [
            "Pandas time: 0.3258 seconds\n",
            "FireDucks time: 0.0168 seconds\n",
            "Speedup: 19.39x\n"
          ]
        }
      ],
      "source": [
        "import fireducks.pandas as fpd\n",
        "import pandas as pd\n",
        "import time\n",
        "\n",
        "# Sample data\n",
        "data = {'A': range(1000000), 'B': range(1000000, 2000000)}\n",
        "\n",
        "# Pandas benchmark\n",
        "start_time = time.time()\n",
        "df_pandas = pd.DataFrame(data)\n",
        "result_pandas = df_pandas.groupby('A').sum()\n",
        "pandas_time = time.time() - start_time\n",
        "\n",
        "# FireDucks benchmark\n",
        "start_time = time.time()\n",
        "df_fireducks = fpd.DataFrame(data)\n",
        "result_fireducks = df_fireducks.groupby('A').sum()\n",
        "fireducks_time = time.time() - start_time\n",
        "\n",
        "print(f\"Pandas time: {pandas_time:.4f} seconds\")\n",
        "print(f\"FireDucks time: {fireducks_time:.4f} seconds\")\n",
        "print(f\"Speedup: {pandas_time / fireducks_time:.2f}x\")\n"
      ]
    },
    {
      "cell_type": "markdown",
      "source": [
        "## Using DuckDB"
      ],
      "metadata": {
        "id": "7aBH5sE4WKTU"
      }
    },
    {
      "cell_type": "code",
      "execution_count": 7,
      "metadata": {
        "colab": {
          "base_uri": "https://localhost:8080/",
          "height": 86
        },
        "id": "LueNF7-KEglI",
        "outputId": "66a003e2-154d-47ef-d64c-688294bb4568"
      },
      "outputs": [
        {
          "output_type": "stream",
          "name": "stdout",
          "text": [
            "Pandas time: 0.1322 seconds\n",
            "DuckDB time: 0.4197 seconds\n",
            "Speedup: 0.31x\n"
          ]
        },
        {
          "output_type": "execute_result",
          "data": {
            "text/plain": [
              "'\\nPandas time: 0.0600 seconds\\nDuckDB time: 0.2354 seconds\\nSpeedup: 0.25x\\n'"
            ],
            "application/vnd.google.colaboratory.intrinsic+json": {
              "type": "string"
            }
          },
          "metadata": {},
          "execution_count": 7
        }
      ],
      "source": [
        "import duckdb\n",
        "import pandas as pd\n",
        "import time\n",
        "\n",
        "# Sample data\n",
        "data = {'A': range(1000000), 'B': range(1000000, 2000000)}\n",
        "df = pd.DataFrame(data)\n",
        "\n",
        "# Pandas benchmark\n",
        "start_time = time.time()\n",
        "result_pandas = df.groupby('A').sum()\n",
        "pandas_time = time.time() - start_time\n",
        "\n",
        "# DuckDB benchmark\n",
        "start_time = time.time()\n",
        "duckdb_conn = duckdb.connect(':memory:')\n",
        "duckdb_conn.register('df', df)\n",
        "result_duckdb = duckdb_conn.execute(\"SELECT A, SUM(B) FROM df GROUP BY A\").fetchdf()\n",
        "duckdb_time = time.time() - start_time\n",
        "\n",
        "print(f\"Pandas time: {pandas_time:.4f} seconds\")\n",
        "print(f\"DuckDB time: {duckdb_time:.4f} seconds\")\n",
        "print(f\"Speedup: {pandas_time / duckdb_time:.2f}x\")\n",
        "\n",
        "\"\"\"\n",
        "Pandas time: 0.0600 seconds\n",
        "DuckDB time: 0.2354 seconds\n",
        "Speedup: 0.25x\n",
        "\"\"\""
      ]
    },
    {
      "cell_type": "markdown",
      "source": [
        "## Using datatable"
      ],
      "metadata": {
        "id": "HBf7HwBXWNe9"
      }
    },
    {
      "cell_type": "code",
      "execution_count": 8,
      "metadata": {
        "colab": {
          "base_uri": "https://localhost:8080/"
        },
        "id": "XCrd2_6vA6zJ",
        "outputId": "e911548f-205b-4112-ba9e-f91c819ce174"
      },
      "outputs": [
        {
          "output_type": "stream",
          "name": "stdout",
          "text": [
            "Pandas time: 0.1724 seconds\n",
            "Datatable time: 0.0608 seconds\n",
            "Speedup: 2.84x\n"
          ]
        }
      ],
      "source": [
        "import datatable as dt\n",
        "import pandas as pd\n",
        "import time\n",
        "\n",
        "# Sample data\n",
        "data = {'A': range(1000000), 'B': range(1000000, 2000000)}\n",
        "\n",
        "# Pandas benchmark\n",
        "start_time = time.time()\n",
        "df_pandas = pd.DataFrame(data)\n",
        "result_pandas = df_pandas.groupby('A').sum()\n",
        "pandas_time = time.time() - start_time\n",
        "\n",
        "# Datatable benchmark\n",
        "start_time = time.time()\n",
        "df_dt = dt.Frame(data)\n",
        "result_dt = df_dt[:, dt.sum(dt.f.B), dt.by(dt.f.A)]\n",
        "datatable_time = time.time() - start_time\n",
        "\n",
        "print(f\"Pandas time: {pandas_time:.4f} seconds\")\n",
        "print(f\"Datatable time: {datatable_time:.4f} seconds\")\n",
        "print(f\"Speedup: {pandas_time / datatable_time:.2f}x\")"
      ]
    }
  ],
  "metadata": {
    "colab": {
      "provenance": [],
      "include_colab_link": true
    },
    "kernelspec": {
      "display_name": "Python 3",
      "name": "python3"
    },
    "language_info": {
      "codemirror_mode": {
        "name": "ipython",
        "version": 3
      },
      "file_extension": ".py",
      "mimetype": "text/x-python",
      "name": "python",
      "nbconvert_exporter": "python",
      "pygments_lexer": "ipython3",
      "version": "3.9.13"
    }
  },
  "nbformat": 4,
  "nbformat_minor": 0
}