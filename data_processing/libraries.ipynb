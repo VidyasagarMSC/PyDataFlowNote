{
  "cells": [
    {
      "cell_type": "markdown",
      "metadata": {},
      "source": [
        "# Benchmarking the modern data processing libraries"
      ]
    },
    {
      "cell_type": "code",
      "execution_count": 1,
      "metadata": {},
      "outputs": [
        {
          "name": "stdout",
          "output_type": "stream",
          "text": [
            "Requirement already satisfied: pandas in /Users/vmac/.pyenv/versions/3.9.13/lib/python3.9/site-packages (1.2.5)\n",
            "Collecting dask\n",
            "  Downloading dask-2024.8.0-py3-none-any.whl.metadata (3.8 kB)\n",
            "Collecting duckdb\n",
            "  Downloading duckdb-1.2.0-cp39-cp39-macosx_12_0_x86_64.whl.metadata (966 bytes)\n",
            "Collecting modin\n",
            "  Using cached modin-0.32.0-py3-none-any.whl.metadata (17 kB)\n",
            "Collecting polars\n",
            "  Using cached polars-1.23.0-cp39-abi3-macosx_10_12_x86_64.whl.metadata (14 kB)\n",
            "Requirement already satisfied: matplotlib in /Users/vmac/.pyenv/versions/3.9.13/lib/python3.9/site-packages (3.8.2)\n",
            "\u001b[31mERROR: Ignored the following versions that require a different python version: 2024.10.0 Requires-Python >=3.10; 2024.11.0 Requires-Python >=3.10; 2024.11.1 Requires-Python >=3.10; 2024.11.2 Requires-Python >=3.10; 2024.12.0 Requires-Python >=3.10; 2024.12.1 Requires-Python >=3.10; 2024.8.1 Requires-Python >=3.10; 2024.8.2 Requires-Python >=3.10; 2024.9.0 Requires-Python >=3.10; 2024.9.1 Requires-Python >=3.10; 2025.1.0 Requires-Python >=3.10; 2025.2.0 Requires-Python >=3.10\u001b[0m\u001b[31m\n",
            "\u001b[0m\u001b[31mERROR: Could not find a version that satisfies the requirement fireducks (from versions: none)\u001b[0m\u001b[31m\n",
            "\u001b[0m\n",
            "\u001b[1m[\u001b[0m\u001b[34;49mnotice\u001b[0m\u001b[1;39;49m]\u001b[0m\u001b[39;49m A new release of pip is available: \u001b[0m\u001b[31;49m24.3.1\u001b[0m\u001b[39;49m -> \u001b[0m\u001b[32;49m25.0.1\u001b[0m\n",
            "\u001b[1m[\u001b[0m\u001b[34;49mnotice\u001b[0m\u001b[1;39;49m]\u001b[0m\u001b[39;49m To update, run: \u001b[0m\u001b[32;49mpip install --upgrade pip\u001b[0m\n",
            "\u001b[31mERROR: No matching distribution found for fireducks\u001b[0m\u001b[31m\n",
            "\u001b[0m"
          ]
        }
      ],
      "source": [
        "# Install required libraries \n",
        "!pip install pandas dask duckdb modin polars matplotlib fireducks datatable\n"
      ]
    },
    {
      "cell_type": "code",
      "execution_count": 1,
      "metadata": {
        "colab": {
          "base_uri": "https://localhost:8080/",
          "height": 658
        },
        "id": "whTD2CQhj5v9",
        "outputId": "26f804b0-5fea-4cd3-8565-74071d253493"
      },
      "outputs": [
        {
          "ename": "ModuleNotFoundError",
          "evalue": "No module named 'dask'",
          "output_type": "error",
          "traceback": [
            "\u001b[0;31m---------------------------------------------------------------------------\u001b[0m",
            "\u001b[0;31mModuleNotFoundError\u001b[0m                       Traceback (most recent call last)",
            "Cell \u001b[0;32mIn[1], line 4\u001b[0m\n\u001b[1;32m      2\u001b[0m \u001b[38;5;28;01mimport\u001b[39;00m\u001b[38;5;250m \u001b[39m\u001b[38;5;21;01mtime\u001b[39;00m\n\u001b[1;32m      3\u001b[0m \u001b[38;5;28;01mimport\u001b[39;00m\u001b[38;5;250m \u001b[39m\u001b[38;5;21;01mpandas\u001b[39;00m\u001b[38;5;250m \u001b[39m\u001b[38;5;28;01mas\u001b[39;00m\u001b[38;5;250m \u001b[39m\u001b[38;5;21;01mpd\u001b[39;00m\n\u001b[0;32m----> 4\u001b[0m \u001b[38;5;28;01mimport\u001b[39;00m\u001b[38;5;250m \u001b[39m\u001b[38;5;21;01mdask\u001b[39;00m\u001b[38;5;21;01m.\u001b[39;00m\u001b[38;5;21;01mdataframe\u001b[39;00m\u001b[38;5;250m \u001b[39m\u001b[38;5;28;01mas\u001b[39;00m\u001b[38;5;250m \u001b[39m\u001b[38;5;21;01mdd\u001b[39;00m\n\u001b[1;32m      5\u001b[0m \u001b[38;5;28;01mimport\u001b[39;00m\u001b[38;5;250m \u001b[39m\u001b[38;5;21;01mduckdb\u001b[39;00m\n\u001b[1;32m      6\u001b[0m \u001b[38;5;28;01mimport\u001b[39;00m\u001b[38;5;250m \u001b[39m\u001b[38;5;21;01mfireducks\u001b[39;00m\u001b[38;5;21;01m.\u001b[39;00m\u001b[38;5;21;01mpandas\u001b[39;00m\u001b[38;5;250m \u001b[39m\u001b[38;5;28;01mas\u001b[39;00m\u001b[38;5;250m \u001b[39m\u001b[38;5;21;01mfpd\u001b[39;00m\n",
            "\u001b[0;31mModuleNotFoundError\u001b[0m: No module named 'dask'"
          ]
        }
      ],
      "source": [
        "# Import necessary libraries\n",
        "import time\n",
        "import pandas as pd\n",
        "import dask.dataframe as dd\n",
        "import duckdb\n",
        "import fireducks.pandas as fpd\n",
        "import modin.pandas as mpd\n",
        "import polars as pl\n",
        "import numpy as np\n",
        "import matplotlib.pyplot as plt\n",
        "import datatable as dt\n",
        "from matplotlib.ticker import FormatStrFormatter\n",
        "\n",
        "# Function to create a random dataset\n",
        "def generate_large_dataframe(n_rows=1000000, n_columns=10):\n",
        "    data = np.random.rand(n_rows, n_columns)\n",
        "    df = pd.DataFrame(data, columns=[f'col_{i}' for i in range(n_columns)])\n",
        "    return df\n",
        "\n",
        "# Function to benchmark Pandas\n",
        "def benchmark_pandas(df):\n",
        "    start_time = time.time()\n",
        "    result = df.groupby('col_0').sum()\n",
        "    end_time = time.time()\n",
        "    return end_time - start_time\n",
        "\n",
        "# Function to benchmark Dask\n",
        "def benchmark_dask(df):\n",
        "    ddf = dd.from_pandas(df, npartitions=4)\n",
        "    start_time = time.time()\n",
        "    result = ddf.groupby('col_0').sum()\n",
        "    end_time = time.time()\n",
        "    return end_time - start_time\n",
        "\n",
        "# Function to benchmark Fireducks\n",
        "def benchmark_fireducks(df):\n",
        "    fdf = fpd.DataFrame(df)  # Assuming fireducks.pandas has DataFrame like pandas\n",
        "    start_time = time.time()\n",
        "    result = fdf.groupby('col_0').sum()\n",
        "    end_time = time.time()\n",
        "    return end_time - start_time\n",
        "\n",
        "# Function to benchmark DuckDB\n",
        "def benchmark_duckdb(df):\n",
        "    con = duckdb.connect()\n",
        "    start_time = time.time()\n",
        "    # Register the Pandas DataFrame as a DuckDB table and run the GROUP BY query\n",
        "    con.register('df', df)\n",
        "    result = con.execute('SELECT col_0, SUM(col_1) FROM df GROUP BY col_0').fetchall()\n",
        "    end_time = time.time()\n",
        "    return end_time - start_time\n",
        "\n",
        "# Function to benchmark Modin\n",
        "def benchmark_modin(df):\n",
        "    start_time = time.time()\n",
        "    result = df.groupby('col_0').sum()\n",
        "    end_time = time.time()\n",
        "    return end_time - start_time\n",
        "\n",
        "# Function to benchmark Polars\n",
        "def benchmark_polars(df):\n",
        "    pl_df = pl.from_pandas(df)\n",
        "    start_time = time.time()\n",
        "    result = pl_df.group_by('col_0').agg(pl.col('col_1').sum())\n",
        "    end_time = time.time()\n",
        "    return end_time - start_time\n",
        "\n",
        "def benchmark_datatable(df):\n",
        "    df_dt = dt.Frame(data)\n",
        "    start_time = time.time()\n",
        "    result_dt = df_dt[:, dt.sum(dt.f.B), dt.by(dt.f.A)]\n",
        "    end_time = time.time()\n",
        "    return end_time- start_time\n",
        "\n",
        "# Generate a large DataFrame for testing\n",
        "df = generate_large_dataframe()\n",
        "\n",
        "# Run benchmarks\n",
        "pandas_time = benchmark_pandas(df)\n",
        "dask_time = benchmark_dask(df)\n",
        "fireducks_time = benchmark_fireducks(df)\n",
        "print(fireducks_time)\n",
        "duckdb_time = benchmark_duckdb(df)\n",
        "modin_time = benchmark_modin(df)\n",
        "polars_time = benchmark_polars(df)\n",
        "datatable_time = benchmark_datatable(df)\n",
        "\n",
        "\n",
        "# Collect results into a list\n",
        "libraries = ['Pandas', 'Dask', 'DuckDB', 'Modin', 'Polars', 'fireducks', 'datatable']\n",
        "print(libraries)\n",
        "times = [pandas_time, dask_time, duckdb_time, modin_time, polars_time,fireducks_time,datatable_time]\n",
        "print(times)\n",
        "# Normalize the data\n",
        "total = sum(times)\n",
        "normalized = [v / total * 100 for v in times]\n",
        "\n",
        "# Create the stacked bar chart\n",
        "fig, ax = plt.subplots(figsize=(10, 6))\n",
        "ax.bar(range(len(libraries)), normalized, align='center')\n",
        "\n",
        "# Add labels and title\n",
        "ax.set_ylabel('Normalized Percentage')\n",
        "ax.set_title('Normalized Performance of DataFrame Libraries')\n",
        "ax.set_xticks(range(len(libraries)))\n",
        "ax.set_xticklabels(libraries, rotation=45, ha='right')\n",
        "\n",
        "# Add value labels on the bars\n",
        "for i, v in enumerate(normalized):\n",
        "    ax.text(i, v/2, f'{v:.2f}%', ha='center', va='center')\n",
        "\n",
        "# Add a legend with original values\n",
        "for i, (lib, val) in enumerate(zip(libraries, times)):\n",
        "    ax.text(1.02, 1 - i*0.1, f'{lib}: {val:.6f}', transform=ax.transAxes, va='top', ha='left')\n",
        "\n",
        "plt.tight_layout()\n",
        "plt.show()"
      ]
    },
    {
      "cell_type": "code",
      "execution_count": null,
      "metadata": {
        "id": "7hVAlcDuEpcO"
      },
      "outputs": [],
      "source": []
    },
    {
      "cell_type": "code",
      "execution_count": null,
      "metadata": {
        "colab": {
          "base_uri": "https://localhost:8080/"
        },
        "id": "WqmgswpLyvN1",
        "outputId": "4f6cca3a-6573-4a5c-ed66-3f4d06c006fb"
      },
      "outputs": [
        {
          "name": "stdout",
          "output_type": "stream",
          "text": [
            "Requirement already satisfied: pandas in /usr/local/lib/python3.11/dist-packages (2.2.2)\n",
            "Requirement already satisfied: dask in /usr/local/lib/python3.11/dist-packages (2024.11.2)\n",
            "Requirement already satisfied: duckdb in /usr/local/lib/python3.11/dist-packages (1.1.3)\n",
            "Requirement already satisfied: modin in /usr/local/lib/python3.11/dist-packages (0.32.0)\n",
            "Requirement already satisfied: polars in /usr/local/lib/python3.11/dist-packages (1.14.0)\n",
            "Requirement already satisfied: matplotlib in /usr/local/lib/python3.11/dist-packages (3.10.0)\n",
            "Requirement already satisfied: fireducks in /usr/local/lib/python3.11/dist-packages (1.2.3)\n",
            "Requirement already satisfied: datatable in /usr/local/lib/python3.11/dist-packages (1.1.0)\n",
            "Requirement already satisfied: numpy>=1.23.2 in /usr/local/lib/python3.11/dist-packages (from pandas) (1.26.4)\n",
            "Requirement already satisfied: python-dateutil>=2.8.2 in /usr/local/lib/python3.11/dist-packages (from pandas) (2.8.2)\n",
            "Requirement already satisfied: pytz>=2020.1 in /usr/local/lib/python3.11/dist-packages (from pandas) (2025.1)\n",
            "Requirement already satisfied: tzdata>=2022.7 in /usr/local/lib/python3.11/dist-packages (from pandas) (2025.1)\n",
            "Requirement already satisfied: click>=8.1 in /usr/local/lib/python3.11/dist-packages (from dask) (8.1.8)\n",
            "Requirement already satisfied: cloudpickle>=3.0.0 in /usr/local/lib/python3.11/dist-packages (from dask) (3.1.1)\n",
            "Requirement already satisfied: fsspec>=2021.09.0 in /usr/local/lib/python3.11/dist-packages (from dask) (2024.10.0)\n",
            "Requirement already satisfied: packaging>=20.0 in /usr/local/lib/python3.11/dist-packages (from dask) (24.2)\n",
            "Requirement already satisfied: partd>=1.4.0 in /usr/local/lib/python3.11/dist-packages (from dask) (1.4.2)\n",
            "Requirement already satisfied: pyyaml>=5.3.1 in /usr/local/lib/python3.11/dist-packages (from dask) (6.0.2)\n",
            "Requirement already satisfied: toolz>=0.10.0 in /usr/local/lib/python3.11/dist-packages (from dask) (0.12.1)\n",
            "Requirement already satisfied: importlib-metadata>=4.13.0 in /usr/local/lib/python3.11/dist-packages (from dask) (8.6.1)\n",
            "Requirement already satisfied: psutil>=5.8.0 in /usr/local/lib/python3.11/dist-packages (from modin) (5.9.5)\n",
            "Requirement already satisfied: contourpy>=1.0.1 in /usr/local/lib/python3.11/dist-packages (from matplotlib) (1.3.1)\n",
            "Requirement already satisfied: cycler>=0.10 in /usr/local/lib/python3.11/dist-packages (from matplotlib) (0.12.1)\n",
            "Requirement already satisfied: fonttools>=4.22.0 in /usr/local/lib/python3.11/dist-packages (from matplotlib) (4.56.0)\n",
            "Requirement already satisfied: kiwisolver>=1.3.1 in /usr/local/lib/python3.11/dist-packages (from matplotlib) (1.4.8)\n",
            "Requirement already satisfied: pillow>=8 in /usr/local/lib/python3.11/dist-packages (from matplotlib) (11.1.0)\n",
            "Requirement already satisfied: pyparsing>=2.3.1 in /usr/local/lib/python3.11/dist-packages (from matplotlib) (3.2.1)\n",
            "Requirement already satisfied: firefw==1.2.3 in /usr/local/lib/python3.11/dist-packages (from fireducks) (1.2.3)\n",
            "Requirement already satisfied: pyarrow<19.1,>=19.0 in /usr/local/lib/python3.11/dist-packages (from fireducks) (19.0.1)\n",
            "Requirement already satisfied: zipp>=3.20 in /usr/local/lib/python3.11/dist-packages (from importlib-metadata>=4.13.0->dask) (3.21.0)\n",
            "Requirement already satisfied: locket in /usr/local/lib/python3.11/dist-packages (from partd>=1.4.0->dask) (1.0.0)\n",
            "Requirement already satisfied: six>=1.5 in /usr/local/lib/python3.11/dist-packages (from python-dateutil>=2.8.2->pandas) (1.17.0)\n"
          ]
        }
      ],
      "source": []
    },
    {
      "cell_type": "code",
      "execution_count": null,
      "metadata": {
        "colab": {
          "base_uri": "https://localhost:8080/"
        },
        "id": "-Ss4yfXXEVOt",
        "outputId": "78e78b70-00c8-4d9b-d1b4-6f669542221a"
      },
      "outputs": [
        {
          "name": "stdout",
          "output_type": "stream",
          "text": [
            "Pandas time: 0.1279 seconds\n",
            "Polars time: 0.0172 seconds\n",
            "Speedup: 7.45x\n"
          ]
        }
      ],
      "source": [
        "import polars as pl\n",
        "import pandas as pd\n",
        "import time\n",
        "\n",
        "# Sample data\n",
        "data = {'A': range(1000000), 'B': range(1000000, 2000000)}\n",
        "\n",
        "# Pandas benchmark\n",
        "start_time = time.time()\n",
        "df_pandas = pd.DataFrame(data)\n",
        "result_pandas = df_pandas.groupby('A').sum()\n",
        "pandas_time = time.time() - start_time\n",
        "\n",
        "# Polars benchmark\n",
        "start_time = time.time()\n",
        "df_polars = pl.DataFrame(data)\n",
        "result_polars = df_polars.group_by('A').sum()\n",
        "polars_time = time.time() - start_time\n",
        "\n",
        "print(f\"Pandas time: {pandas_time:.4f} seconds\")\n",
        "print(f\"Polars time: {polars_time:.4f} seconds\")\n",
        "print(f\"Speedup: {pandas_time / polars_time:.2f}x\")\n"
      ]
    },
    {
      "cell_type": "code",
      "execution_count": null,
      "metadata": {
        "colab": {
          "base_uri": "https://localhost:8080/"
        },
        "id": "uE7VhQxoyoj0",
        "outputId": "a7494aff-1812-47f2-fe91-51e375d8fba8"
      },
      "outputs": [
        {
          "name": "stdout",
          "output_type": "stream",
          "text": [
            "Pandas time: 0.1186 seconds\n",
            "Modin time: 0.1036 seconds\n",
            "Speedup: 1.14x\n"
          ]
        },
        {
          "name": "stderr",
          "output_type": "stream",
          "text": [
            "UserWarning: Distributing <class 'dict'> object. This may take some time.\n"
          ]
        }
      ],
      "source": [
        "import modin.pandas as mpd\n",
        "import pandas as pd\n",
        "import time\n",
        "\n",
        "# Sample data\n",
        "data = {'A': range(1000000), 'B': range(1000000, 2000000)}\n",
        "\n",
        "# Pandas benchmark\n",
        "start_time = time.time()\n",
        "df_pandas = pd.DataFrame(data)\n",
        "result_pandas = df_pandas.groupby('A').sum()\n",
        "pandas_time = time.time() - start_time\n",
        "\n",
        "# Modin benchmark\n",
        "start_time = time.time()\n",
        "df_modin = mpd.DataFrame(data)\n",
        "result_modin = df_modin.groupby('A').sum()\n",
        "modin_time = time.time() - start_time\n",
        "\n",
        "print(f\"Pandas time: {pandas_time:.4f} seconds\")\n",
        "print(f\"Modin time: {modin_time:.4f} seconds\")\n",
        "print(f\"Speedup: {pandas_time / modin_time:.2f}x\")\n"
      ]
    },
    {
      "cell_type": "code",
      "execution_count": null,
      "metadata": {
        "colab": {
          "base_uri": "https://localhost:8080/"
        },
        "id": "ZUF6qeQEFt5J",
        "outputId": "c2f14d9b-f391-4279-cc1b-fa96dba6e217"
      },
      "outputs": [
        {
          "name": "stdout",
          "output_type": "stream",
          "text": [
            "Pandas time: 0.0838 seconds\n",
            "Dask time: 0.0213 seconds\n",
            "Speedup: 3.93x\n"
          ]
        }
      ],
      "source": [
        "import dask.dataframe as dd\n",
        "import pandas as pd\n",
        "import time\n",
        "\n",
        "# Sample data\n",
        "data = {'A': range(1000000), 'B': range(1000000, 2000000)}\n",
        "\n",
        "# Pandas benchmark\n",
        "start_time = time.time()\n",
        "df_pandas = pd.DataFrame(data)\n",
        "result_pandas = df_pandas.groupby('A').sum()\n",
        "pandas_time = time.time() - start_time\n",
        "\n",
        "# Dask benchmark\n",
        "start_time = time.time()\n",
        "df_dask = dd.from_dict(data, npartitions=4) #dd.from_pandas(df_pandas, npartitions=4)\n",
        "result_dask = df_dask.groupby('A').sum()\n",
        "dask_time = time.time() - start_time\n",
        "\n",
        "print(f\"Pandas time: {pandas_time:.4f} seconds\")\n",
        "print(f\"Dask time: {dask_time:.4f} seconds\")\n",
        "print(f\"Speedup: {pandas_time / dask_time:.2f}x\")\n"
      ]
    },
    {
      "cell_type": "code",
      "execution_count": null,
      "metadata": {
        "colab": {
          "base_uri": "https://localhost:8080/"
        },
        "id": "I6KaGA4eQ7qH",
        "outputId": "cc94a545-4aa3-4adc-86d8-99c3ee551a1d"
      },
      "outputs": [
        {
          "name": "stdout",
          "output_type": "stream",
          "text": [
            "Pandas time: 0.0754 seconds\n",
            "FireDucks time: 0.0033 seconds\n",
            "Speedup: 23.14x\n"
          ]
        }
      ],
      "source": [
        "import fireducks.pandas as fpd\n",
        "import pandas as pd\n",
        "import time\n",
        "\n",
        "# Sample data\n",
        "data = {'A': range(1000000), 'B': range(1000000, 2000000)}\n",
        "\n",
        "# Pandas benchmark\n",
        "start_time = time.time()\n",
        "df_pandas = pd.DataFrame(data)\n",
        "result_pandas = df_pandas.groupby('A').sum()\n",
        "pandas_time = time.time() - start_time\n",
        "\n",
        "# FireDucks benchmark\n",
        "start_time = time.time()\n",
        "df_fireducks = fpd.DataFrame(data)\n",
        "result_fireducks = df_fireducks.groupby('A').sum()\n",
        "fireducks_time = time.time() - start_time\n",
        "\n",
        "print(f\"Pandas time: {pandas_time:.4f} seconds\")\n",
        "print(f\"FireDucks time: {fireducks_time:.4f} seconds\")\n",
        "print(f\"Speedup: {pandas_time / fireducks_time:.2f}x\")\n"
      ]
    },
    {
      "cell_type": "code",
      "execution_count": null,
      "metadata": {
        "colab": {
          "base_uri": "https://localhost:8080/",
          "height": 86
        },
        "id": "LueNF7-KEglI",
        "outputId": "38022711-c6a8-477f-adea-225177b73ec8"
      },
      "outputs": [
        {
          "name": "stdout",
          "output_type": "stream",
          "text": [
            "Pandas time: 0.0898 seconds\n",
            "DuckDB time: 0.1698 seconds\n",
            "Speedup: 0.53x\n"
          ]
        },
        {
          "data": {
            "application/vnd.google.colaboratory.intrinsic+json": {
              "type": "string"
            },
            "text/plain": [
              "'\\nPandas time: 0.0600 seconds\\nDuckDB time: 0.2354 seconds\\nSpeedup: 0.25x\\n'"
            ]
          },
          "execution_count": 10,
          "metadata": {},
          "output_type": "execute_result"
        }
      ],
      "source": [
        "import duckdb\n",
        "import pandas as pd\n",
        "import time\n",
        "\n",
        "# Sample data\n",
        "data = {'A': range(1000000), 'B': range(1000000, 2000000)}\n",
        "df = pd.DataFrame(data)\n",
        "\n",
        "# Pandas benchmark\n",
        "start_time = time.time()\n",
        "result_pandas = df.groupby('A').sum()\n",
        "pandas_time = time.time() - start_time\n",
        "\n",
        "# DuckDB benchmark\n",
        "start_time = time.time()\n",
        "duckdb_conn = duckdb.connect(':memory:')\n",
        "duckdb_conn.register('df', df)\n",
        "result_duckdb = duckdb_conn.execute(\"SELECT A, SUM(B) FROM df GROUP BY A\").fetchdf()\n",
        "duckdb_time = time.time() - start_time\n",
        "\n",
        "print(f\"Pandas time: {pandas_time:.4f} seconds\")\n",
        "print(f\"DuckDB time: {duckdb_time:.4f} seconds\")\n",
        "print(f\"Speedup: {pandas_time / duckdb_time:.2f}x\")\n",
        "\n",
        "\"\"\"\n",
        "Pandas time: 0.0600 seconds\n",
        "DuckDB time: 0.2354 seconds\n",
        "Speedup: 0.25x\n",
        "\"\"\""
      ]
    },
    {
      "cell_type": "code",
      "execution_count": null,
      "metadata": {
        "colab": {
          "base_uri": "https://localhost:8080/"
        },
        "id": "XCrd2_6vA6zJ",
        "outputId": "bd5278f5-2edd-4cd1-beb6-10ba86d10a15"
      },
      "outputs": [
        {
          "name": "stdout",
          "output_type": "stream",
          "text": [
            "Requirement already satisfied: datatable in /usr/local/lib/python3.11/dist-packages (1.1.0)\n",
            "Pandas time: 0.3050 seconds\n",
            "Datatable time: 0.0585 seconds\n",
            "Speedup: 5.21x\n"
          ]
        }
      ],
      "source": [
        "import datatable as dt\n",
        "import pandas as pd\n",
        "import time\n",
        "\n",
        "# Sample data\n",
        "data = {'A': range(1000000), 'B': range(1000000, 2000000)}\n",
        "\n",
        "# Pandas benchmark\n",
        "start_time = time.time()\n",
        "df_pandas = pd.DataFrame(data)\n",
        "result_pandas = df_pandas.groupby('A').sum()\n",
        "pandas_time = time.time() - start_time\n",
        "\n",
        "# Datatable benchmark\n",
        "start_time = time.time()\n",
        "df_dt = dt.Frame(data)\n",
        "result_dt = df_dt[:, dt.sum(dt.f.B), dt.by(dt.f.A)]\n",
        "datatable_time = time.time() - start_time\n",
        "\n",
        "print(f\"Pandas time: {pandas_time:.4f} seconds\")\n",
        "print(f\"Datatable time: {datatable_time:.4f} seconds\")\n",
        "print(f\"Speedup: {pandas_time / datatable_time:.2f}x\")"
      ]
    }
  ],
  "metadata": {
    "colab": {
      "provenance": []
    },
    "kernelspec": {
      "display_name": "Python 3",
      "name": "python3"
    },
    "language_info": {
      "codemirror_mode": {
        "name": "ipython",
        "version": 3
      },
      "file_extension": ".py",
      "mimetype": "text/x-python",
      "name": "python",
      "nbconvert_exporter": "python",
      "pygments_lexer": "ipython3",
      "version": "3.9.13"
    }
  },
  "nbformat": 4,
  "nbformat_minor": 0
}
